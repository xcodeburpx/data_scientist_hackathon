{
 "cells": [
  {
   "cell_type": "code",
   "execution_count": 1,
   "metadata": {
    "collapsed": true
   },
   "outputs": [],
   "source": [
    "#Hard copy for Formax notebooks\n",
    "import numpy as np \n",
    "import matplotlib\n",
    "import matplotlib.pyplot as plt \n",
    "from tqdm import trange, tqdm\n",
    "import pickle\n",
    "from datetime import datetime\n",
    "\n",
    "from hackathon.utils.utils import *\n",
    "\n",
    "%matplotlib inline\n",
    "matplotlib.rcParams['figure.figsize'] = (5, 5)\n",
    "\n",
    "%load_ext autoreload\n",
    "%autoreload 2"
   ]
  },
  {
   "cell_type": "code",
   "execution_count": 2,
   "metadata": {},
   "outputs": [
    {
     "data": {
      "text/html": [
       "<div>\n",
       "<style>\n",
       "    .dataframe thead tr:only-child th {\n",
       "        text-align: right;\n",
       "    }\n",
       "\n",
       "    .dataframe thead th {\n",
       "        text-align: left;\n",
       "    }\n",
       "\n",
       "    .dataframe tbody tr th {\n",
       "        vertical-align: top;\n",
       "    }\n",
       "</style>\n",
       "<table border=\"1\" class=\"dataframe\">\n",
       "  <thead>\n",
       "    <tr style=\"text-align: right;\">\n",
       "      <th></th>\n",
       "      <th>ut_ms</th>\n",
       "      <th>ute_ms</th>\n",
       "      <th>type</th>\n",
       "      <th>flagcomms</th>\n",
       "    </tr>\n",
       "  </thead>\n",
       "  <tbody>\n",
       "    <tr>\n",
       "      <th>0</th>\n",
       "      <td>1420071423000</td>\n",
       "      <td>1420073638000</td>\n",
       "      <td>INERTIAL</td>\n",
       "      <td>False</td>\n",
       "    </tr>\n",
       "    <tr>\n",
       "      <th>1</th>\n",
       "      <td>1420073638000</td>\n",
       "      <td>1420074838000</td>\n",
       "      <td>SLEW</td>\n",
       "      <td>False</td>\n",
       "    </tr>\n",
       "    <tr>\n",
       "      <th>2</th>\n",
       "      <td>1420074838000</td>\n",
       "      <td>1420082167000</td>\n",
       "      <td>EARTH</td>\n",
       "      <td>False</td>\n",
       "    </tr>\n",
       "    <tr>\n",
       "      <th>3</th>\n",
       "      <td>1420082167000</td>\n",
       "      <td>1420084298000</td>\n",
       "      <td>SLEW</td>\n",
       "      <td>False</td>\n",
       "    </tr>\n",
       "    <tr>\n",
       "      <th>4</th>\n",
       "      <td>1420084298000</td>\n",
       "      <td>1420088038000</td>\n",
       "      <td>D4PNPO</td>\n",
       "      <td>False</td>\n",
       "    </tr>\n",
       "  </tbody>\n",
       "</table>\n",
       "</div>"
      ],
      "text/plain": [
       "           ut_ms         ute_ms      type  flagcomms\n",
       "0  1420071423000  1420073638000  INERTIAL      False\n",
       "1  1420073638000  1420074838000      SLEW      False\n",
       "2  1420074838000  1420082167000     EARTH      False\n",
       "3  1420082167000  1420084298000      SLEW      False\n",
       "4  1420084298000  1420088038000    D4PNPO      False"
      ]
     },
     "execution_count": 2,
     "metadata": {},
     "output_type": "execute_result"
    }
   ],
   "source": [
    "ftl_df_raw_1 = pd.read_csv('../data/merged_data/ftl.csv')\n",
    "ftl_df_raw_2 = pd.read_csv('../data/test_set/ftl.csv')\n",
    "ftl_df_raw_1.head()\n",
    "ftl_df_raw_2.head()"
   ]
  },
  {
   "cell_type": "code",
   "execution_count": null,
   "metadata": {
    "collapsed": true
   },
   "outputs": [],
   "source": []
  },
  {
   "cell_type": "code",
   "execution_count": null,
   "metadata": {
    "collapsed": true
   },
   "outputs": [],
   "source": []
  },
  {
   "cell_type": "code",
   "execution_count": 3,
   "metadata": {
    "collapsed": true
   },
   "outputs": [],
   "source": [
    "# Copied functions to properly load ftl - modified\n",
    "def to_datetime(df, time_col='ut_ms'):\n",
    "    \"\"\"\n",
    "    Converts UCT timestamp [ms] to datetime in a dataframe\n",
    "    \"\"\"\n",
    "    df[time_col] = pd.to_datetime(df[time_col], unit='ms')\n",
    "    return df\n",
    "\n",
    "def ftl_data(filename, time_col_1='ut_ms', time_col_2 = \"ute_ms\"):\n",
    "    \"\"\"\n",
    "    Read a dataframe and prepare the time axis\n",
    "    \"\"\"\n",
    "    df = pd.read_csv(filename)\n",
    "    df = to_datetime(df, time_col=time_col_1)\n",
    "    df = to_datetime(df,time_col=time_col_2)\n",
    "    df = df.set_index(time_col_1)\n",
    "    return df\n",
    "\n",
    "#ftl_df_1 = ftl_data('../data/merged_data/ftl.csv')\n",
    "#ftl_df_2 = ftl_data('../data/test_set/ftl.csv')\n",
    "\n",
    "ftl_dat = ftl_data('../data/hackathon/context--2014-01-01_2015-01-01--ftl.csv')\n",
    "ftl_dat_test = ftl_data('../data/hackathon/context--2015-01-01_2015-07-01--ftl.csv')\n",
    "ftl_dat = pd.concat([ftl_dat,ftl_dat_test])"
   ]
  },
  {
   "cell_type": "code",
   "execution_count": 4,
   "metadata": {},
   "outputs": [
    {
     "data": {
      "text/plain": [
       "Index([u'ute_ms', u'type', u'flagcomms'], dtype='object')"
      ]
     },
     "execution_count": 4,
     "metadata": {},
     "output_type": "execute_result"
    }
   ],
   "source": [
    "ftl_dat.columns"
   ]
  },
  {
   "cell_type": "code",
   "execution_count": 5,
   "metadata": {
    "collapsed": true
   },
   "outputs": [],
   "source": [
    "ftl_dat.index = ftl_dat['ute_ms']\n",
    "ftl_dat.index = ftl_dat.index.set_names('ut_ms')"
   ]
  },
  {
   "cell_type": "code",
   "execution_count": 6,
   "metadata": {},
   "outputs": [
    {
     "data": {
      "text/plain": [
       "(12345, 3)"
      ]
     },
     "execution_count": 6,
     "metadata": {},
     "output_type": "execute_result"
    }
   ],
   "source": [
    "ftl_dat.shape"
   ]
  },
  {
   "cell_type": "code",
   "execution_count": 7,
   "metadata": {
    "collapsed": true
   },
   "outputs": [],
   "source": [
    "names = ftl_dat['type'].unique()"
   ]
  },
  {
   "cell_type": "code",
   "execution_count": 8,
   "metadata": {
    "collapsed": true
   },
   "outputs": [],
   "source": [
    "#Create count columns for ftl types\n",
    "for name in names:\n",
    "    ftl_dat[name] = ftl_dat['type'] == name\n",
    "    ftl_dat[name] = ftl_dat[name].astype('int')"
   ]
  },
  {
   "cell_type": "code",
   "execution_count": 9,
   "metadata": {},
   "outputs": [
    {
     "data": {
      "text/html": [
       "<div>\n",
       "<style>\n",
       "    .dataframe thead tr:only-child th {\n",
       "        text-align: right;\n",
       "    }\n",
       "\n",
       "    .dataframe thead th {\n",
       "        text-align: left;\n",
       "    }\n",
       "\n",
       "    .dataframe tbody tr th {\n",
       "        vertical-align: top;\n",
       "    }\n",
       "</style>\n",
       "<table border=\"1\" class=\"dataframe\">\n",
       "  <thead>\n",
       "    <tr style=\"text-align: right;\">\n",
       "      <th></th>\n",
       "      <th>ute_ms</th>\n",
       "      <th>type</th>\n",
       "      <th>flagcomms</th>\n",
       "      <th>SLEW</th>\n",
       "      <th>EARTH</th>\n",
       "      <th>MAINTENANCE</th>\n",
       "      <th>WARMUP</th>\n",
       "      <th>ACROSS_TRACK</th>\n",
       "      <th>D4PNPO</th>\n",
       "      <th>NADIR</th>\n",
       "      <th>INERTIAL</th>\n",
       "      <th>D9PSPO</th>\n",
       "      <th>D3POCM</th>\n",
       "      <th>D2PLND</th>\n",
       "      <th>SPECULAR</th>\n",
       "      <th>D1PVMC</th>\n",
       "      <th>D8PLTP</th>\n",
       "      <th>D7PLTS</th>\n",
       "    </tr>\n",
       "    <tr>\n",
       "      <th>ut_ms</th>\n",
       "      <th></th>\n",
       "      <th></th>\n",
       "      <th></th>\n",
       "      <th></th>\n",
       "      <th></th>\n",
       "      <th></th>\n",
       "      <th></th>\n",
       "      <th></th>\n",
       "      <th></th>\n",
       "      <th></th>\n",
       "      <th></th>\n",
       "      <th></th>\n",
       "      <th></th>\n",
       "      <th></th>\n",
       "      <th></th>\n",
       "      <th></th>\n",
       "      <th></th>\n",
       "      <th></th>\n",
       "    </tr>\n",
       "  </thead>\n",
       "  <tbody>\n",
       "    <tr>\n",
       "      <th>2014-01-01 01:34:37</th>\n",
       "      <td>2014-01-01 01:34:37</td>\n",
       "      <td>SLEW</td>\n",
       "      <td>False</td>\n",
       "      <td>1</td>\n",
       "      <td>0</td>\n",
       "      <td>0</td>\n",
       "      <td>0</td>\n",
       "      <td>0</td>\n",
       "      <td>0</td>\n",
       "      <td>0</td>\n",
       "      <td>0</td>\n",
       "      <td>0</td>\n",
       "      <td>0</td>\n",
       "      <td>0</td>\n",
       "      <td>0</td>\n",
       "      <td>0</td>\n",
       "      <td>0</td>\n",
       "      <td>0</td>\n",
       "    </tr>\n",
       "    <tr>\n",
       "      <th>2014-01-01 01:59:07</th>\n",
       "      <td>2014-01-01 01:59:07</td>\n",
       "      <td>EARTH</td>\n",
       "      <td>False</td>\n",
       "      <td>0</td>\n",
       "      <td>1</td>\n",
       "      <td>0</td>\n",
       "      <td>0</td>\n",
       "      <td>0</td>\n",
       "      <td>0</td>\n",
       "      <td>0</td>\n",
       "      <td>0</td>\n",
       "      <td>0</td>\n",
       "      <td>0</td>\n",
       "      <td>0</td>\n",
       "      <td>0</td>\n",
       "      <td>0</td>\n",
       "      <td>0</td>\n",
       "      <td>0</td>\n",
       "    </tr>\n",
       "    <tr>\n",
       "      <th>2014-01-01 03:29:07</th>\n",
       "      <td>2014-01-01 03:29:07</td>\n",
       "      <td>MAINTENANCE</td>\n",
       "      <td>False</td>\n",
       "      <td>0</td>\n",
       "      <td>0</td>\n",
       "      <td>1</td>\n",
       "      <td>0</td>\n",
       "      <td>0</td>\n",
       "      <td>0</td>\n",
       "      <td>0</td>\n",
       "      <td>0</td>\n",
       "      <td>0</td>\n",
       "      <td>0</td>\n",
       "      <td>0</td>\n",
       "      <td>0</td>\n",
       "      <td>0</td>\n",
       "      <td>0</td>\n",
       "      <td>0</td>\n",
       "    </tr>\n",
       "    <tr>\n",
       "      <th>2014-01-01 05:05:23</th>\n",
       "      <td>2014-01-01 05:05:23</td>\n",
       "      <td>WARMUP</td>\n",
       "      <td>False</td>\n",
       "      <td>0</td>\n",
       "      <td>0</td>\n",
       "      <td>0</td>\n",
       "      <td>1</td>\n",
       "      <td>0</td>\n",
       "      <td>0</td>\n",
       "      <td>0</td>\n",
       "      <td>0</td>\n",
       "      <td>0</td>\n",
       "      <td>0</td>\n",
       "      <td>0</td>\n",
       "      <td>0</td>\n",
       "      <td>0</td>\n",
       "      <td>0</td>\n",
       "      <td>0</td>\n",
       "    </tr>\n",
       "    <tr>\n",
       "      <th>2014-01-01 05:35:23</th>\n",
       "      <td>2014-01-01 05:35:23</td>\n",
       "      <td>SLEW</td>\n",
       "      <td>False</td>\n",
       "      <td>1</td>\n",
       "      <td>0</td>\n",
       "      <td>0</td>\n",
       "      <td>0</td>\n",
       "      <td>0</td>\n",
       "      <td>0</td>\n",
       "      <td>0</td>\n",
       "      <td>0</td>\n",
       "      <td>0</td>\n",
       "      <td>0</td>\n",
       "      <td>0</td>\n",
       "      <td>0</td>\n",
       "      <td>0</td>\n",
       "      <td>0</td>\n",
       "      <td>0</td>\n",
       "    </tr>\n",
       "  </tbody>\n",
       "</table>\n",
       "</div>"
      ],
      "text/plain": [
       "                                 ute_ms         type  flagcomms  SLEW  EARTH  \\\n",
       "ut_ms                                                                          \n",
       "2014-01-01 01:34:37 2014-01-01 01:34:37         SLEW      False     1      0   \n",
       "2014-01-01 01:59:07 2014-01-01 01:59:07        EARTH      False     0      1   \n",
       "2014-01-01 03:29:07 2014-01-01 03:29:07  MAINTENANCE      False     0      0   \n",
       "2014-01-01 05:05:23 2014-01-01 05:05:23       WARMUP      False     0      0   \n",
       "2014-01-01 05:35:23 2014-01-01 05:35:23         SLEW      False     1      0   \n",
       "\n",
       "                     MAINTENANCE  WARMUP  ACROSS_TRACK  D4PNPO  NADIR  \\\n",
       "ut_ms                                                                   \n",
       "2014-01-01 01:34:37            0       0             0       0      0   \n",
       "2014-01-01 01:59:07            0       0             0       0      0   \n",
       "2014-01-01 03:29:07            1       0             0       0      0   \n",
       "2014-01-01 05:05:23            0       1             0       0      0   \n",
       "2014-01-01 05:35:23            0       0             0       0      0   \n",
       "\n",
       "                     INERTIAL  D9PSPO  D3POCM  D2PLND  SPECULAR  D1PVMC  \\\n",
       "ut_ms                                                                     \n",
       "2014-01-01 01:34:37         0       0       0       0         0       0   \n",
       "2014-01-01 01:59:07         0       0       0       0         0       0   \n",
       "2014-01-01 03:29:07         0       0       0       0         0       0   \n",
       "2014-01-01 05:05:23         0       0       0       0         0       0   \n",
       "2014-01-01 05:35:23         0       0       0       0         0       0   \n",
       "\n",
       "                     D8PLTP  D7PLTS  \n",
       "ut_ms                                \n",
       "2014-01-01 01:34:37       0       0  \n",
       "2014-01-01 01:59:07       0       0  \n",
       "2014-01-01 03:29:07       0       0  \n",
       "2014-01-01 05:05:23       0       0  \n",
       "2014-01-01 05:35:23       0       0  "
      ]
     },
     "execution_count": 9,
     "metadata": {},
     "output_type": "execute_result"
    }
   ],
   "source": [
    "ftl_dat.head()"
   ]
  },
  {
   "cell_type": "code",
   "execution_count": 10,
   "metadata": {},
   "outputs": [
    {
     "data": {
      "text/html": [
       "<div>\n",
       "<style>\n",
       "    .dataframe thead tr:only-child th {\n",
       "        text-align: right;\n",
       "    }\n",
       "\n",
       "    .dataframe thead th {\n",
       "        text-align: left;\n",
       "    }\n",
       "\n",
       "    .dataframe tbody tr th {\n",
       "        vertical-align: top;\n",
       "    }\n",
       "</style>\n",
       "<table border=\"1\" class=\"dataframe\">\n",
       "  <thead>\n",
       "    <tr style=\"text-align: right;\">\n",
       "      <th></th>\n",
       "      <th>flagcomms</th>\n",
       "      <th>SLEW</th>\n",
       "      <th>EARTH</th>\n",
       "      <th>MAINTENANCE</th>\n",
       "      <th>WARMUP</th>\n",
       "      <th>ACROSS_TRACK</th>\n",
       "      <th>D4PNPO</th>\n",
       "      <th>NADIR</th>\n",
       "      <th>INERTIAL</th>\n",
       "      <th>D9PSPO</th>\n",
       "      <th>D3POCM</th>\n",
       "      <th>D2PLND</th>\n",
       "      <th>SPECULAR</th>\n",
       "      <th>D1PVMC</th>\n",
       "      <th>D8PLTP</th>\n",
       "      <th>D7PLTS</th>\n",
       "    </tr>\n",
       "    <tr>\n",
       "      <th>ut_ms</th>\n",
       "      <th></th>\n",
       "      <th></th>\n",
       "      <th></th>\n",
       "      <th></th>\n",
       "      <th></th>\n",
       "      <th></th>\n",
       "      <th></th>\n",
       "      <th></th>\n",
       "      <th></th>\n",
       "      <th></th>\n",
       "      <th></th>\n",
       "      <th></th>\n",
       "      <th></th>\n",
       "      <th></th>\n",
       "      <th></th>\n",
       "      <th></th>\n",
       "    </tr>\n",
       "  </thead>\n",
       "  <tbody>\n",
       "    <tr>\n",
       "      <th>2014-01-01 01:34:37</th>\n",
       "      <td>0</td>\n",
       "      <td>1</td>\n",
       "      <td>0</td>\n",
       "      <td>0</td>\n",
       "      <td>0</td>\n",
       "      <td>0</td>\n",
       "      <td>0</td>\n",
       "      <td>0</td>\n",
       "      <td>0</td>\n",
       "      <td>0</td>\n",
       "      <td>0</td>\n",
       "      <td>0</td>\n",
       "      <td>0</td>\n",
       "      <td>0</td>\n",
       "      <td>0</td>\n",
       "      <td>0</td>\n",
       "    </tr>\n",
       "    <tr>\n",
       "      <th>2014-01-01 01:59:07</th>\n",
       "      <td>0</td>\n",
       "      <td>0</td>\n",
       "      <td>1</td>\n",
       "      <td>0</td>\n",
       "      <td>0</td>\n",
       "      <td>0</td>\n",
       "      <td>0</td>\n",
       "      <td>0</td>\n",
       "      <td>0</td>\n",
       "      <td>0</td>\n",
       "      <td>0</td>\n",
       "      <td>0</td>\n",
       "      <td>0</td>\n",
       "      <td>0</td>\n",
       "      <td>0</td>\n",
       "      <td>0</td>\n",
       "    </tr>\n",
       "    <tr>\n",
       "      <th>2014-01-01 03:29:07</th>\n",
       "      <td>0</td>\n",
       "      <td>0</td>\n",
       "      <td>0</td>\n",
       "      <td>1</td>\n",
       "      <td>0</td>\n",
       "      <td>0</td>\n",
       "      <td>0</td>\n",
       "      <td>0</td>\n",
       "      <td>0</td>\n",
       "      <td>0</td>\n",
       "      <td>0</td>\n",
       "      <td>0</td>\n",
       "      <td>0</td>\n",
       "      <td>0</td>\n",
       "      <td>0</td>\n",
       "      <td>0</td>\n",
       "    </tr>\n",
       "    <tr>\n",
       "      <th>2014-01-01 05:05:23</th>\n",
       "      <td>0</td>\n",
       "      <td>0</td>\n",
       "      <td>0</td>\n",
       "      <td>0</td>\n",
       "      <td>1</td>\n",
       "      <td>0</td>\n",
       "      <td>0</td>\n",
       "      <td>0</td>\n",
       "      <td>0</td>\n",
       "      <td>0</td>\n",
       "      <td>0</td>\n",
       "      <td>0</td>\n",
       "      <td>0</td>\n",
       "      <td>0</td>\n",
       "      <td>0</td>\n",
       "      <td>0</td>\n",
       "    </tr>\n",
       "    <tr>\n",
       "      <th>2014-01-01 05:35:23</th>\n",
       "      <td>0</td>\n",
       "      <td>1</td>\n",
       "      <td>0</td>\n",
       "      <td>0</td>\n",
       "      <td>0</td>\n",
       "      <td>0</td>\n",
       "      <td>0</td>\n",
       "      <td>0</td>\n",
       "      <td>0</td>\n",
       "      <td>0</td>\n",
       "      <td>0</td>\n",
       "      <td>0</td>\n",
       "      <td>0</td>\n",
       "      <td>0</td>\n",
       "      <td>0</td>\n",
       "      <td>0</td>\n",
       "    </tr>\n",
       "  </tbody>\n",
       "</table>\n",
       "</div>"
      ],
      "text/plain": [
       "                     flagcomms  SLEW  EARTH  MAINTENANCE  WARMUP  \\\n",
       "ut_ms                                                              \n",
       "2014-01-01 01:34:37          0     1      0            0       0   \n",
       "2014-01-01 01:59:07          0     0      1            0       0   \n",
       "2014-01-01 03:29:07          0     0      0            1       0   \n",
       "2014-01-01 05:05:23          0     0      0            0       1   \n",
       "2014-01-01 05:35:23          0     1      0            0       0   \n",
       "\n",
       "                     ACROSS_TRACK  D4PNPO  NADIR  INERTIAL  D9PSPO  D3POCM  \\\n",
       "ut_ms                                                                        \n",
       "2014-01-01 01:34:37             0       0      0         0       0       0   \n",
       "2014-01-01 01:59:07             0       0      0         0       0       0   \n",
       "2014-01-01 03:29:07             0       0      0         0       0       0   \n",
       "2014-01-01 05:05:23             0       0      0         0       0       0   \n",
       "2014-01-01 05:35:23             0       0      0         0       0       0   \n",
       "\n",
       "                     D2PLND  SPECULAR  D1PVMC  D8PLTP  D7PLTS  \n",
       "ut_ms                                                          \n",
       "2014-01-01 01:34:37       0         0       0       0       0  \n",
       "2014-01-01 01:59:07       0         0       0       0       0  \n",
       "2014-01-01 03:29:07       0         0       0       0       0  \n",
       "2014-01-01 05:05:23       0         0       0       0       0  \n",
       "2014-01-01 05:35:23       0         0       0       0       0  "
      ]
     },
     "execution_count": 10,
     "metadata": {},
     "output_type": "execute_result"
    }
   ],
   "source": [
    "ftl_dat['flagcomms'] = ftl_dat['flagcomms'].astype('int')\n",
    "ftl_dat.drop(['ute_ms','type'], axis=1, inplace=True)\n",
    "ftl_dat.head()"
   ]
  },
  {
   "cell_type": "code",
   "execution_count": 11,
   "metadata": {
    "collapsed": true
   },
   "outputs": [],
   "source": [
    "ftl_dat['ut_ms'] = ftl_dat.index.map(lambda dt: datetime(dt.year, dt.month, dt.day, dt.hour))"
   ]
  },
  {
   "cell_type": "code",
   "execution_count": 12,
   "metadata": {},
   "outputs": [
    {
     "name": "stderr",
     "output_type": "stream",
     "text": [
      "/home/kinshiryuu-burp/anaconda3/envs/nitinol/lib/python2.7/site-packages/ipykernel_launcher.py:1: FutureWarning: 'ut_ms' is both a column name and an index level.\n",
      "Defaulting to column but this will raise an ambiguity error in a future version\n",
      "  \"\"\"Entry point for launching an IPython kernel.\n"
     ]
    }
   ],
   "source": [
    "ftl_hour = ftl_dat.groupby(['ut_ms']).sum()"
   ]
  },
  {
   "cell_type": "code",
   "execution_count": 13,
   "metadata": {
    "collapsed": true
   },
   "outputs": [],
   "source": [
    "#Save ftl data\n",
    "ftl_hour.to_csv(\"../data/hackathon/ftl_dat.csv\")"
   ]
  },
  {
   "cell_type": "code",
   "execution_count": 16,
   "metadata": {},
   "outputs": [
    {
     "data": {
      "text/html": [
       "<div>\n",
       "<style>\n",
       "    .dataframe thead tr:only-child th {\n",
       "        text-align: right;\n",
       "    }\n",
       "\n",
       "    .dataframe thead th {\n",
       "        text-align: left;\n",
       "    }\n",
       "\n",
       "    .dataframe tbody tr th {\n",
       "        vertical-align: top;\n",
       "    }\n",
       "</style>\n",
       "<table border=\"1\" class=\"dataframe\">\n",
       "  <thead>\n",
       "    <tr style=\"text-align: right;\">\n",
       "      <th></th>\n",
       "      <th>flagcomms</th>\n",
       "      <th>SLEW</th>\n",
       "      <th>EARTH</th>\n",
       "      <th>MAINTENANCE</th>\n",
       "      <th>WARMUP</th>\n",
       "      <th>ACROSS_TRACK</th>\n",
       "      <th>D4PNPO</th>\n",
       "      <th>NADIR</th>\n",
       "      <th>INERTIAL</th>\n",
       "      <th>D9PSPO</th>\n",
       "      <th>D3POCM</th>\n",
       "      <th>D2PLND</th>\n",
       "      <th>SPECULAR</th>\n",
       "      <th>D1PVMC</th>\n",
       "      <th>D8PLTP</th>\n",
       "      <th>D7PLTS</th>\n",
       "    </tr>\n",
       "    <tr>\n",
       "      <th>ut_ms</th>\n",
       "      <th></th>\n",
       "      <th></th>\n",
       "      <th></th>\n",
       "      <th></th>\n",
       "      <th></th>\n",
       "      <th></th>\n",
       "      <th></th>\n",
       "      <th></th>\n",
       "      <th></th>\n",
       "      <th></th>\n",
       "      <th></th>\n",
       "      <th></th>\n",
       "      <th></th>\n",
       "      <th></th>\n",
       "      <th></th>\n",
       "      <th></th>\n",
       "    </tr>\n",
       "  </thead>\n",
       "  <tbody>\n",
       "    <tr>\n",
       "      <th>2014-01-01 01:00:00</th>\n",
       "      <td>0</td>\n",
       "      <td>1</td>\n",
       "      <td>1</td>\n",
       "      <td>0</td>\n",
       "      <td>0</td>\n",
       "      <td>0</td>\n",
       "      <td>0</td>\n",
       "      <td>0</td>\n",
       "      <td>0</td>\n",
       "      <td>0</td>\n",
       "      <td>0</td>\n",
       "      <td>0</td>\n",
       "      <td>0</td>\n",
       "      <td>0</td>\n",
       "      <td>0</td>\n",
       "      <td>0</td>\n",
       "    </tr>\n",
       "    <tr>\n",
       "      <th>2014-01-01 03:00:00</th>\n",
       "      <td>0</td>\n",
       "      <td>0</td>\n",
       "      <td>0</td>\n",
       "      <td>1</td>\n",
       "      <td>0</td>\n",
       "      <td>0</td>\n",
       "      <td>0</td>\n",
       "      <td>0</td>\n",
       "      <td>0</td>\n",
       "      <td>0</td>\n",
       "      <td>0</td>\n",
       "      <td>0</td>\n",
       "      <td>0</td>\n",
       "      <td>0</td>\n",
       "      <td>0</td>\n",
       "      <td>0</td>\n",
       "    </tr>\n",
       "    <tr>\n",
       "      <th>2014-01-01 05:00:00</th>\n",
       "      <td>0</td>\n",
       "      <td>1</td>\n",
       "      <td>1</td>\n",
       "      <td>0</td>\n",
       "      <td>1</td>\n",
       "      <td>0</td>\n",
       "      <td>0</td>\n",
       "      <td>0</td>\n",
       "      <td>0</td>\n",
       "      <td>0</td>\n",
       "      <td>0</td>\n",
       "      <td>0</td>\n",
       "      <td>0</td>\n",
       "      <td>0</td>\n",
       "      <td>0</td>\n",
       "      <td>0</td>\n",
       "    </tr>\n",
       "    <tr>\n",
       "      <th>2014-01-01 06:00:00</th>\n",
       "      <td>0</td>\n",
       "      <td>1</td>\n",
       "      <td>0</td>\n",
       "      <td>0</td>\n",
       "      <td>0</td>\n",
       "      <td>0</td>\n",
       "      <td>0</td>\n",
       "      <td>0</td>\n",
       "      <td>0</td>\n",
       "      <td>0</td>\n",
       "      <td>0</td>\n",
       "      <td>0</td>\n",
       "      <td>0</td>\n",
       "      <td>0</td>\n",
       "      <td>0</td>\n",
       "      <td>0</td>\n",
       "    </tr>\n",
       "    <tr>\n",
       "      <th>2014-01-01 07:00:00</th>\n",
       "      <td>0</td>\n",
       "      <td>1</td>\n",
       "      <td>0</td>\n",
       "      <td>0</td>\n",
       "      <td>0</td>\n",
       "      <td>1</td>\n",
       "      <td>0</td>\n",
       "      <td>0</td>\n",
       "      <td>0</td>\n",
       "      <td>0</td>\n",
       "      <td>0</td>\n",
       "      <td>0</td>\n",
       "      <td>0</td>\n",
       "      <td>0</td>\n",
       "      <td>0</td>\n",
       "      <td>0</td>\n",
       "    </tr>\n",
       "  </tbody>\n",
       "</table>\n",
       "</div>"
      ],
      "text/plain": [
       "                     flagcomms  SLEW  EARTH  MAINTENANCE  WARMUP  \\\n",
       "ut_ms                                                              \n",
       "2014-01-01 01:00:00          0     1      1            0       0   \n",
       "2014-01-01 03:00:00          0     0      0            1       0   \n",
       "2014-01-01 05:00:00          0     1      1            0       1   \n",
       "2014-01-01 06:00:00          0     1      0            0       0   \n",
       "2014-01-01 07:00:00          0     1      0            0       0   \n",
       "\n",
       "                     ACROSS_TRACK  D4PNPO  NADIR  INERTIAL  D9PSPO  D3POCM  \\\n",
       "ut_ms                                                                        \n",
       "2014-01-01 01:00:00             0       0      0         0       0       0   \n",
       "2014-01-01 03:00:00             0       0      0         0       0       0   \n",
       "2014-01-01 05:00:00             0       0      0         0       0       0   \n",
       "2014-01-01 06:00:00             0       0      0         0       0       0   \n",
       "2014-01-01 07:00:00             1       0      0         0       0       0   \n",
       "\n",
       "                     D2PLND  SPECULAR  D1PVMC  D8PLTP  D7PLTS  \n",
       "ut_ms                                                          \n",
       "2014-01-01 01:00:00       0         0       0       0       0  \n",
       "2014-01-01 03:00:00       0         0       0       0       0  \n",
       "2014-01-01 05:00:00       0         0       0       0       0  \n",
       "2014-01-01 06:00:00       0         0       0       0       0  \n",
       "2014-01-01 07:00:00       0         0       0       0       0  "
      ]
     },
     "execution_count": 16,
     "metadata": {},
     "output_type": "execute_result"
    }
   ],
   "source": [
    "ftl_hour.head()"
   ]
  },
  {
   "cell_type": "code",
   "execution_count": null,
   "metadata": {
    "collapsed": true
   },
   "outputs": [],
   "source": []
  },
  {
   "cell_type": "code",
   "execution_count": null,
   "metadata": {
    "collapsed": true
   },
   "outputs": [],
   "source": []
  },
  {
   "cell_type": "code",
   "execution_count": null,
   "metadata": {
    "collapsed": true
   },
   "outputs": [],
   "source": []
  },
  {
   "cell_type": "code",
   "execution_count": 41,
   "metadata": {
    "collapsed": true
   },
   "outputs": [],
   "source": [
    "ftl_df = ftl_df_1"
   ]
  },
  {
   "cell_type": "code",
   "execution_count": 42,
   "metadata": {},
   "outputs": [
    {
     "data": {
      "text/plain": [
       "Index([u'ute_ms', u'type', u'flagcomms'], dtype='object')"
      ]
     },
     "execution_count": 42,
     "metadata": {},
     "output_type": "execute_result"
    }
   ],
   "source": [
    "ftl_df.columns"
   ]
  },
  {
   "cell_type": "code",
   "execution_count": 50,
   "metadata": {
    "collapsed": true
   },
   "outputs": [],
   "source": [
    "ftl_df.index = ftl_df['ute_ms']\n",
    "ftl_df.index = ftl_df.index.set_names('ut_ms')"
   ]
  },
  {
   "cell_type": "code",
   "execution_count": 51,
   "metadata": {},
   "outputs": [
    {
     "data": {
      "text/html": [
       "<div>\n",
       "<style>\n",
       "    .dataframe thead tr:only-child th {\n",
       "        text-align: right;\n",
       "    }\n",
       "\n",
       "    .dataframe thead th {\n",
       "        text-align: left;\n",
       "    }\n",
       "\n",
       "    .dataframe tbody tr th {\n",
       "        vertical-align: top;\n",
       "    }\n",
       "</style>\n",
       "<table border=\"1\" class=\"dataframe\">\n",
       "  <thead>\n",
       "    <tr style=\"text-align: right;\">\n",
       "      <th></th>\n",
       "      <th>ute_ms</th>\n",
       "      <th>type</th>\n",
       "      <th>flagcomms</th>\n",
       "    </tr>\n",
       "    <tr>\n",
       "      <th>ut_ms</th>\n",
       "      <th></th>\n",
       "      <th></th>\n",
       "      <th></th>\n",
       "    </tr>\n",
       "  </thead>\n",
       "  <tbody>\n",
       "    <tr>\n",
       "      <th>2008-08-22 00:38:14</th>\n",
       "      <td>2008-08-22 00:38:14</td>\n",
       "      <td>EARTH</td>\n",
       "      <td>False</td>\n",
       "    </tr>\n",
       "    <tr>\n",
       "      <th>2008-08-22 01:45:55</th>\n",
       "      <td>2008-08-22 01:45:55</td>\n",
       "      <td>EARTH</td>\n",
       "      <td>True</td>\n",
       "    </tr>\n",
       "    <tr>\n",
       "      <th>2008-08-22 01:46:59</th>\n",
       "      <td>2008-08-22 01:46:59</td>\n",
       "      <td>EARTH</td>\n",
       "      <td>False</td>\n",
       "    </tr>\n",
       "    <tr>\n",
       "      <th>2008-08-22 01:57:33</th>\n",
       "      <td>2008-08-22 01:57:33</td>\n",
       "      <td>SLEW</td>\n",
       "      <td>False</td>\n",
       "    </tr>\n",
       "    <tr>\n",
       "      <th>2008-08-22 02:44:53</th>\n",
       "      <td>2008-08-22 02:44:53</td>\n",
       "      <td>NADIR</td>\n",
       "      <td>False</td>\n",
       "    </tr>\n",
       "  </tbody>\n",
       "</table>\n",
       "</div>"
      ],
      "text/plain": [
       "                                 ute_ms   type  flagcomms\n",
       "ut_ms                                                    \n",
       "2008-08-22 00:38:14 2008-08-22 00:38:14  EARTH      False\n",
       "2008-08-22 01:45:55 2008-08-22 01:45:55  EARTH       True\n",
       "2008-08-22 01:46:59 2008-08-22 01:46:59  EARTH      False\n",
       "2008-08-22 01:57:33 2008-08-22 01:57:33   SLEW      False\n",
       "2008-08-22 02:44:53 2008-08-22 02:44:53  NADIR      False"
      ]
     },
     "execution_count": 51,
     "metadata": {},
     "output_type": "execute_result"
    }
   ],
   "source": [
    "ftl_df.head()"
   ]
  },
  {
   "cell_type": "code",
   "execution_count": 52,
   "metadata": {},
   "outputs": [
    {
     "data": {
      "text/plain": [
       "(64253, 3)"
      ]
     },
     "execution_count": 52,
     "metadata": {},
     "output_type": "execute_result"
    }
   ],
   "source": [
    "ftl_df.shape"
   ]
  },
  {
   "cell_type": "code",
   "execution_count": 53,
   "metadata": {
    "collapsed": true
   },
   "outputs": [],
   "source": [
    "names = ftl_df['type'].unique()"
   ]
  },
  {
   "cell_type": "code",
   "execution_count": 54,
   "metadata": {},
   "outputs": [
    {
     "data": {
      "text/plain": [
       "array(['EARTH', 'SLEW', 'NADIR', 'MAINTENANCE', 'INERTIAL', 'ACROSS_TRACK',\n",
       "       'WARMUP', 'D1PVMC', 'RADIO_SCIENCE', 'SPECULAR', 'D4PNPO', 'D3POCM',\n",
       "       'D2PLND', 'D5PPHB', 'D7PLTS', 'D8PLTP', 'SPOT', 'D9PSPO'], dtype=object)"
      ]
     },
     "execution_count": 54,
     "metadata": {},
     "output_type": "execute_result"
    }
   ],
   "source": [
    "names"
   ]
  },
  {
   "cell_type": "code",
   "execution_count": 55,
   "metadata": {
    "collapsed": true
   },
   "outputs": [],
   "source": [
    "for name in names:\n",
    "    ftl_df[name] = ftl_df['type'] == name\n",
    "    ftl_df[name] = ftl_df[name].astype('int')"
   ]
  },
  {
   "cell_type": "code",
   "execution_count": 56,
   "metadata": {},
   "outputs": [
    {
     "data": {
      "text/html": [
       "<div>\n",
       "<style>\n",
       "    .dataframe thead tr:only-child th {\n",
       "        text-align: right;\n",
       "    }\n",
       "\n",
       "    .dataframe thead th {\n",
       "        text-align: left;\n",
       "    }\n",
       "\n",
       "    .dataframe tbody tr th {\n",
       "        vertical-align: top;\n",
       "    }\n",
       "</style>\n",
       "<table border=\"1\" class=\"dataframe\">\n",
       "  <thead>\n",
       "    <tr style=\"text-align: right;\">\n",
       "      <th></th>\n",
       "      <th>flagcomms</th>\n",
       "      <th>EARTH</th>\n",
       "      <th>SLEW</th>\n",
       "      <th>NADIR</th>\n",
       "      <th>MAINTENANCE</th>\n",
       "      <th>INERTIAL</th>\n",
       "      <th>ACROSS_TRACK</th>\n",
       "      <th>WARMUP</th>\n",
       "      <th>D1PVMC</th>\n",
       "      <th>RADIO_SCIENCE</th>\n",
       "      <th>SPECULAR</th>\n",
       "      <th>D4PNPO</th>\n",
       "      <th>D3POCM</th>\n",
       "      <th>D2PLND</th>\n",
       "      <th>D5PPHB</th>\n",
       "      <th>D7PLTS</th>\n",
       "      <th>D8PLTP</th>\n",
       "      <th>SPOT</th>\n",
       "      <th>D9PSPO</th>\n",
       "    </tr>\n",
       "    <tr>\n",
       "      <th>ut_ms</th>\n",
       "      <th></th>\n",
       "      <th></th>\n",
       "      <th></th>\n",
       "      <th></th>\n",
       "      <th></th>\n",
       "      <th></th>\n",
       "      <th></th>\n",
       "      <th></th>\n",
       "      <th></th>\n",
       "      <th></th>\n",
       "      <th></th>\n",
       "      <th></th>\n",
       "      <th></th>\n",
       "      <th></th>\n",
       "      <th></th>\n",
       "      <th></th>\n",
       "      <th></th>\n",
       "      <th></th>\n",
       "      <th></th>\n",
       "    </tr>\n",
       "  </thead>\n",
       "  <tbody>\n",
       "    <tr>\n",
       "      <th>2008-08-22 00:38:14</th>\n",
       "      <td>0</td>\n",
       "      <td>1</td>\n",
       "      <td>0</td>\n",
       "      <td>0</td>\n",
       "      <td>0</td>\n",
       "      <td>0</td>\n",
       "      <td>0</td>\n",
       "      <td>0</td>\n",
       "      <td>0</td>\n",
       "      <td>0</td>\n",
       "      <td>0</td>\n",
       "      <td>0</td>\n",
       "      <td>0</td>\n",
       "      <td>0</td>\n",
       "      <td>0</td>\n",
       "      <td>0</td>\n",
       "      <td>0</td>\n",
       "      <td>0</td>\n",
       "      <td>0</td>\n",
       "    </tr>\n",
       "    <tr>\n",
       "      <th>2008-08-22 01:45:55</th>\n",
       "      <td>1</td>\n",
       "      <td>1</td>\n",
       "      <td>0</td>\n",
       "      <td>0</td>\n",
       "      <td>0</td>\n",
       "      <td>0</td>\n",
       "      <td>0</td>\n",
       "      <td>0</td>\n",
       "      <td>0</td>\n",
       "      <td>0</td>\n",
       "      <td>0</td>\n",
       "      <td>0</td>\n",
       "      <td>0</td>\n",
       "      <td>0</td>\n",
       "      <td>0</td>\n",
       "      <td>0</td>\n",
       "      <td>0</td>\n",
       "      <td>0</td>\n",
       "      <td>0</td>\n",
       "    </tr>\n",
       "    <tr>\n",
       "      <th>2008-08-22 01:46:59</th>\n",
       "      <td>0</td>\n",
       "      <td>1</td>\n",
       "      <td>0</td>\n",
       "      <td>0</td>\n",
       "      <td>0</td>\n",
       "      <td>0</td>\n",
       "      <td>0</td>\n",
       "      <td>0</td>\n",
       "      <td>0</td>\n",
       "      <td>0</td>\n",
       "      <td>0</td>\n",
       "      <td>0</td>\n",
       "      <td>0</td>\n",
       "      <td>0</td>\n",
       "      <td>0</td>\n",
       "      <td>0</td>\n",
       "      <td>0</td>\n",
       "      <td>0</td>\n",
       "      <td>0</td>\n",
       "    </tr>\n",
       "    <tr>\n",
       "      <th>2008-08-22 01:57:33</th>\n",
       "      <td>0</td>\n",
       "      <td>0</td>\n",
       "      <td>1</td>\n",
       "      <td>0</td>\n",
       "      <td>0</td>\n",
       "      <td>0</td>\n",
       "      <td>0</td>\n",
       "      <td>0</td>\n",
       "      <td>0</td>\n",
       "      <td>0</td>\n",
       "      <td>0</td>\n",
       "      <td>0</td>\n",
       "      <td>0</td>\n",
       "      <td>0</td>\n",
       "      <td>0</td>\n",
       "      <td>0</td>\n",
       "      <td>0</td>\n",
       "      <td>0</td>\n",
       "      <td>0</td>\n",
       "    </tr>\n",
       "    <tr>\n",
       "      <th>2008-08-22 02:44:53</th>\n",
       "      <td>0</td>\n",
       "      <td>0</td>\n",
       "      <td>0</td>\n",
       "      <td>1</td>\n",
       "      <td>0</td>\n",
       "      <td>0</td>\n",
       "      <td>0</td>\n",
       "      <td>0</td>\n",
       "      <td>0</td>\n",
       "      <td>0</td>\n",
       "      <td>0</td>\n",
       "      <td>0</td>\n",
       "      <td>0</td>\n",
       "      <td>0</td>\n",
       "      <td>0</td>\n",
       "      <td>0</td>\n",
       "      <td>0</td>\n",
       "      <td>0</td>\n",
       "      <td>0</td>\n",
       "    </tr>\n",
       "  </tbody>\n",
       "</table>\n",
       "</div>"
      ],
      "text/plain": [
       "                     flagcomms  EARTH  SLEW  NADIR  MAINTENANCE  INERTIAL  \\\n",
       "ut_ms                                                                       \n",
       "2008-08-22 00:38:14          0      1     0      0            0         0   \n",
       "2008-08-22 01:45:55          1      1     0      0            0         0   \n",
       "2008-08-22 01:46:59          0      1     0      0            0         0   \n",
       "2008-08-22 01:57:33          0      0     1      0            0         0   \n",
       "2008-08-22 02:44:53          0      0     0      1            0         0   \n",
       "\n",
       "                     ACROSS_TRACK  WARMUP  D1PVMC  RADIO_SCIENCE  SPECULAR  \\\n",
       "ut_ms                                                                        \n",
       "2008-08-22 00:38:14             0       0       0              0         0   \n",
       "2008-08-22 01:45:55             0       0       0              0         0   \n",
       "2008-08-22 01:46:59             0       0       0              0         0   \n",
       "2008-08-22 01:57:33             0       0       0              0         0   \n",
       "2008-08-22 02:44:53             0       0       0              0         0   \n",
       "\n",
       "                     D4PNPO  D3POCM  D2PLND  D5PPHB  D7PLTS  D8PLTP  SPOT  \\\n",
       "ut_ms                                                                       \n",
       "2008-08-22 00:38:14       0       0       0       0       0       0     0   \n",
       "2008-08-22 01:45:55       0       0       0       0       0       0     0   \n",
       "2008-08-22 01:46:59       0       0       0       0       0       0     0   \n",
       "2008-08-22 01:57:33       0       0       0       0       0       0     0   \n",
       "2008-08-22 02:44:53       0       0       0       0       0       0     0   \n",
       "\n",
       "                     D9PSPO  \n",
       "ut_ms                        \n",
       "2008-08-22 00:38:14       0  \n",
       "2008-08-22 01:45:55       0  \n",
       "2008-08-22 01:46:59       0  \n",
       "2008-08-22 01:57:33       0  \n",
       "2008-08-22 02:44:53       0  "
      ]
     },
     "execution_count": 56,
     "metadata": {},
     "output_type": "execute_result"
    }
   ],
   "source": [
    "ftl_df['flagcomms'] = ftl_df['flagcomms'].astype('int')\n",
    "ftl_df.drop(['ute_ms','type'], axis=1, inplace=True)\n",
    "ftl_df.head()"
   ]
  },
  {
   "cell_type": "code",
   "execution_count": 57,
   "metadata": {
    "collapsed": true
   },
   "outputs": [],
   "source": [
    "ftl_df['ut_ms'] = ftl_df.index.map(lambda dt: datetime(dt.year, dt.month, dt.day, dt.hour))"
   ]
  },
  {
   "cell_type": "code",
   "execution_count": 58,
   "metadata": {},
   "outputs": [
    {
     "name": "stderr",
     "output_type": "stream",
     "text": [
      "/home/kinshiryuu-burp/anaconda3/envs/nitinol/lib/python2.7/site-packages/ipykernel_launcher.py:1: FutureWarning: 'ut_ms' is both a column name and an index level.\n",
      "Defaulting to column but this will raise an ambiguity error in a future version\n",
      "  \"\"\"Entry point for launching an IPython kernel.\n"
     ]
    }
   ],
   "source": [
    "ftl_hour = ftl_df.groupby(['ut_ms']).sum()"
   ]
  },
  {
   "cell_type": "code",
   "execution_count": 59,
   "metadata": {
    "scrolled": false
   },
   "outputs": [
    {
     "data": {
      "text/html": [
       "<div>\n",
       "<style>\n",
       "    .dataframe thead tr:only-child th {\n",
       "        text-align: right;\n",
       "    }\n",
       "\n",
       "    .dataframe thead th {\n",
       "        text-align: left;\n",
       "    }\n",
       "\n",
       "    .dataframe tbody tr th {\n",
       "        vertical-align: top;\n",
       "    }\n",
       "</style>\n",
       "<table border=\"1\" class=\"dataframe\">\n",
       "  <thead>\n",
       "    <tr style=\"text-align: right;\">\n",
       "      <th></th>\n",
       "      <th>flagcomms</th>\n",
       "      <th>EARTH</th>\n",
       "      <th>SLEW</th>\n",
       "      <th>NADIR</th>\n",
       "      <th>MAINTENANCE</th>\n",
       "      <th>INERTIAL</th>\n",
       "      <th>ACROSS_TRACK</th>\n",
       "      <th>WARMUP</th>\n",
       "      <th>D1PVMC</th>\n",
       "      <th>RADIO_SCIENCE</th>\n",
       "      <th>SPECULAR</th>\n",
       "      <th>D4PNPO</th>\n",
       "      <th>D3POCM</th>\n",
       "      <th>D2PLND</th>\n",
       "      <th>D5PPHB</th>\n",
       "      <th>D7PLTS</th>\n",
       "      <th>D8PLTP</th>\n",
       "      <th>SPOT</th>\n",
       "      <th>D9PSPO</th>\n",
       "    </tr>\n",
       "    <tr>\n",
       "      <th>ut_ms</th>\n",
       "      <th></th>\n",
       "      <th></th>\n",
       "      <th></th>\n",
       "      <th></th>\n",
       "      <th></th>\n",
       "      <th></th>\n",
       "      <th></th>\n",
       "      <th></th>\n",
       "      <th></th>\n",
       "      <th></th>\n",
       "      <th></th>\n",
       "      <th></th>\n",
       "      <th></th>\n",
       "      <th></th>\n",
       "      <th></th>\n",
       "      <th></th>\n",
       "      <th></th>\n",
       "      <th></th>\n",
       "      <th></th>\n",
       "    </tr>\n",
       "  </thead>\n",
       "  <tbody>\n",
       "    <tr>\n",
       "      <th>2008-08-22 00:00:00</th>\n",
       "      <td>0</td>\n",
       "      <td>1</td>\n",
       "      <td>0</td>\n",
       "      <td>0</td>\n",
       "      <td>0</td>\n",
       "      <td>0</td>\n",
       "      <td>0</td>\n",
       "      <td>0</td>\n",
       "      <td>0</td>\n",
       "      <td>0</td>\n",
       "      <td>0</td>\n",
       "      <td>0</td>\n",
       "      <td>0</td>\n",
       "      <td>0</td>\n",
       "      <td>0</td>\n",
       "      <td>0</td>\n",
       "      <td>0</td>\n",
       "      <td>0</td>\n",
       "      <td>0</td>\n",
       "    </tr>\n",
       "    <tr>\n",
       "      <th>2008-08-22 01:00:00</th>\n",
       "      <td>1</td>\n",
       "      <td>2</td>\n",
       "      <td>1</td>\n",
       "      <td>0</td>\n",
       "      <td>0</td>\n",
       "      <td>0</td>\n",
       "      <td>0</td>\n",
       "      <td>0</td>\n",
       "      <td>0</td>\n",
       "      <td>0</td>\n",
       "      <td>0</td>\n",
       "      <td>0</td>\n",
       "      <td>0</td>\n",
       "      <td>0</td>\n",
       "      <td>0</td>\n",
       "      <td>0</td>\n",
       "      <td>0</td>\n",
       "      <td>0</td>\n",
       "      <td>0</td>\n",
       "    </tr>\n",
       "    <tr>\n",
       "      <th>2008-08-22 02:00:00</th>\n",
       "      <td>0</td>\n",
       "      <td>0</td>\n",
       "      <td>0</td>\n",
       "      <td>1</td>\n",
       "      <td>0</td>\n",
       "      <td>0</td>\n",
       "      <td>0</td>\n",
       "      <td>0</td>\n",
       "      <td>0</td>\n",
       "      <td>0</td>\n",
       "      <td>0</td>\n",
       "      <td>0</td>\n",
       "      <td>0</td>\n",
       "      <td>0</td>\n",
       "      <td>0</td>\n",
       "      <td>0</td>\n",
       "      <td>0</td>\n",
       "      <td>0</td>\n",
       "      <td>0</td>\n",
       "    </tr>\n",
       "    <tr>\n",
       "      <th>2008-08-22 03:00:00</th>\n",
       "      <td>0</td>\n",
       "      <td>1</td>\n",
       "      <td>1</td>\n",
       "      <td>0</td>\n",
       "      <td>0</td>\n",
       "      <td>0</td>\n",
       "      <td>0</td>\n",
       "      <td>0</td>\n",
       "      <td>0</td>\n",
       "      <td>0</td>\n",
       "      <td>0</td>\n",
       "      <td>0</td>\n",
       "      <td>0</td>\n",
       "      <td>0</td>\n",
       "      <td>0</td>\n",
       "      <td>0</td>\n",
       "      <td>0</td>\n",
       "      <td>0</td>\n",
       "      <td>0</td>\n",
       "    </tr>\n",
       "    <tr>\n",
       "      <th>2008-08-22 04:00:00</th>\n",
       "      <td>1</td>\n",
       "      <td>1</td>\n",
       "      <td>0</td>\n",
       "      <td>0</td>\n",
       "      <td>0</td>\n",
       "      <td>0</td>\n",
       "      <td>0</td>\n",
       "      <td>0</td>\n",
       "      <td>0</td>\n",
       "      <td>0</td>\n",
       "      <td>0</td>\n",
       "      <td>0</td>\n",
       "      <td>0</td>\n",
       "      <td>0</td>\n",
       "      <td>0</td>\n",
       "      <td>0</td>\n",
       "      <td>0</td>\n",
       "      <td>0</td>\n",
       "      <td>0</td>\n",
       "    </tr>\n",
       "  </tbody>\n",
       "</table>\n",
       "</div>"
      ],
      "text/plain": [
       "                     flagcomms  EARTH  SLEW  NADIR  MAINTENANCE  INERTIAL  \\\n",
       "ut_ms                                                                       \n",
       "2008-08-22 00:00:00          0      1     0      0            0         0   \n",
       "2008-08-22 01:00:00          1      2     1      0            0         0   \n",
       "2008-08-22 02:00:00          0      0     0      1            0         0   \n",
       "2008-08-22 03:00:00          0      1     1      0            0         0   \n",
       "2008-08-22 04:00:00          1      1     0      0            0         0   \n",
       "\n",
       "                     ACROSS_TRACK  WARMUP  D1PVMC  RADIO_SCIENCE  SPECULAR  \\\n",
       "ut_ms                                                                        \n",
       "2008-08-22 00:00:00             0       0       0              0         0   \n",
       "2008-08-22 01:00:00             0       0       0              0         0   \n",
       "2008-08-22 02:00:00             0       0       0              0         0   \n",
       "2008-08-22 03:00:00             0       0       0              0         0   \n",
       "2008-08-22 04:00:00             0       0       0              0         0   \n",
       "\n",
       "                     D4PNPO  D3POCM  D2PLND  D5PPHB  D7PLTS  D8PLTP  SPOT  \\\n",
       "ut_ms                                                                       \n",
       "2008-08-22 00:00:00       0       0       0       0       0       0     0   \n",
       "2008-08-22 01:00:00       0       0       0       0       0       0     0   \n",
       "2008-08-22 02:00:00       0       0       0       0       0       0     0   \n",
       "2008-08-22 03:00:00       0       0       0       0       0       0     0   \n",
       "2008-08-22 04:00:00       0       0       0       0       0       0     0   \n",
       "\n",
       "                     D9PSPO  \n",
       "ut_ms                        \n",
       "2008-08-22 00:00:00       0  \n",
       "2008-08-22 01:00:00       0  \n",
       "2008-08-22 02:00:00       0  \n",
       "2008-08-22 03:00:00       0  \n",
       "2008-08-22 04:00:00       0  "
      ]
     },
     "execution_count": 59,
     "metadata": {},
     "output_type": "execute_result"
    }
   ],
   "source": [
    "ftl_hour.head()"
   ]
  },
  {
   "cell_type": "code",
   "execution_count": 60,
   "metadata": {},
   "outputs": [
    {
     "data": {
      "text/plain": [
       "array(['flagcomms', 'EARTH', 'SLEW', 'NADIR', 'MAINTENANCE', 'INERTIAL',\n",
       "       'ACROSS_TRACK', 'WARMUP', 'D1PVMC', 'RADIO_SCIENCE', 'SPECULAR',\n",
       "       'D4PNPO', 'D3POCM', 'D2PLND', 'D5PPHB', 'D7PLTS', 'D8PLTP', 'SPOT',\n",
       "       'D9PSPO', 'ut_ms'], dtype=object)"
      ]
     },
     "execution_count": 60,
     "metadata": {},
     "output_type": "execute_result"
    }
   ],
   "source": [
    "names = ftl_df.columns.values\n",
    "names"
   ]
  },
  {
   "cell_type": "code",
   "execution_count": 61,
   "metadata": {
    "scrolled": true
   },
   "outputs": [
    {
     "data": {
      "image/png": "[encoded data removed]",
      "text/plain": [
       "<matplotlib.figure.Figure at 0x7f625ddec750>"
      ]
     },
     "metadata": {},
     "output_type": "display_data"
    },
    {
     "data": {
      "image/png": "[encoded data removed]",
      "text/plain": [
       "<matplotlib.figure.Figure at 0x7f625a25c390>"
      ]
     },
     "metadata": {},
     "output_type": "display_data"
    },
    {
     "data": {
      "image/png": "[encoded data removed]",
      "text/plain": [
       "<matplotlib.figure.Figure at 0x7f625e06a290>"
      ]
     },
     "metadata": {},
     "output_type": "display_data"
    },
    {
     "data": {
      "image/png": "[encoded data removed]",
      "text/plain": [
       "<matplotlib.figure.Figure at 0x7f625de07810>"
      ]
     },
     "metadata": {},
     "output_type": "display_data"
    },
    {
     "data": {
      "image/png": "[encoded data removed]",
      "text/plain": [
       "<matplotlib.figure.Figure at 0x7f625a502e90>"
      ]
     },
     "metadata": {},
     "output_type": "display_data"
    },
    {
     "data": {
      "image/png": "[encoded data removed]",
      "text/plain": [
       "<matplotlib.figure.Figure at 0x7f625a1e6790>"
      ]
     },
     "metadata": {},
     "output_type": "display_data"
    },
    {
     "data": {
      "image/png": "[encoded data removed]",
      "text/plain": [
       "<matplotlib.figure.Figure at 0x7f625a24fb50>"
      ]
     },
     "metadata": {},
     "output_type": "display_data"
    },
    {
     "data": {
      "image/png": "[encoded data removed]",
      "text/plain": [
       "<matplotlib.figure.Figure at 0x7f625a2c45d0>"
      ]
     },
     "metadata": {},
     "output_type": "display_data"
    },
    {
     "data": {
      "image/png": "[encoded data removed]",
      "text/plain": [
       "<matplotlib.figure.Figure at 0x7f625e6b73d0>"
      ]
     },
     "metadata": {},
     "output_type": "display_data"
    },
    {
     "data": {
      "image/png": "[encoded data removed]",
      "text/plain": [
       "<matplotlib.figure.Figure at 0x7f625de46290>"
      ]
     },
     "metadata": {},
     "output_type": "display_data"
    },
    {
     "data": {
      "image/png": "[encoded data removed]",
      "text/plain": [
       "<matplotlib.figure.Figure at 0x7f625defd090>"
      ]
     },
     "metadata": {},
     "output_type": "display_data"
    },
    {
     "data": {
      "image/png": "[encoded data removed]",
      "text/plain": [
       "<matplotlib.figure.Figure at 0x7f625e117e50>"
      ]
     },
     "metadata": {},
     "output_type": "display_data"
    },
    {
     "data": {
      "image/png": "[encoded data removed]",
      "text/plain": [
       "<matplotlib.figure.Figure at 0x7f625a367c50>"
      ]
     },
     "metadata": {},
     "output_type": "display_data"
    },
    {
     "data": {
      "image/png": "[encoded data removed]",
      "text/plain": [
       "<matplotlib.figure.Figure at 0x7f625e6a0a50>"
      ]
     },
     "metadata": {},
     "output_type": "display_data"
    },
    {
     "data": {
      "image/png": "[encoded data removed]",
      "text/plain": [
       "<matplotlib.figure.Figure at 0x7f625e35d850>"
      ]
     },
     "metadata": {},
     "output_type": "display_data"
    },
    {
     "data": {
      "image/png": "[encoded data removed]",
      "text/plain": [
       "<matplotlib.figure.Figure at 0x7f625e440650>"
      ]
     },
     "metadata": {},
     "output_type": "display_data"
    },
    {
     "data": {
      "image/png": "[encoded data removed]",
      "text/plain": [
       "<matplotlib.figure.Figure at 0x7f625a3bd450>"
      ]
     },
     "metadata": {},
     "output_type": "display_data"
    },
    {
     "data": {
      "image/png": "[encoded data removed]",
      "text/plain": [
       "<matplotlib.figure.Figure at 0x7f625e2aa250>"
      ]
     },
     "metadata": {},
     "output_type": "display_data"
    },
    {
     "data": {
      "image/png": "[encoded data removed]",
      "text/plain": [
       "<matplotlib.figure.Figure at 0x7f625e13b050>"
      ]
     },
     "metadata": {},
     "output_type": "display_data"
    }
   ],
   "source": [
    "for i, name in enumerate(names[:-1]):\n",
    "    plt.figure(num=i, figsize=(20,5))\n",
    "    plt.plot(ftl_hour[name])\n",
    "    #plt.yticks([0,1,2])\n",
    "    plt.title(name)"
   ]
  },
  {
   "cell_type": "code",
   "execution_count": null,
   "metadata": {
    "collapsed": true,
    "scrolled": true
   },
   "outputs": [],
   "source": []
  },
  {
   "cell_type": "code",
   "execution_count": 62,
   "metadata": {
    "collapsed": true
   },
   "outputs": [],
   "source": [
    "ftl_hour.to_csv(\"../data/hackathon/ftl_df.csv\")"
   ]
  },
  {
   "cell_type": "code",
   "execution_count": null,
   "metadata": {
    "collapsed": true
   },
   "outputs": [],
   "source": []
  }
 ],
 "metadata": {
  "kernelspec": {
   "display_name": "Python 2",
   "language": "python",
   "name": "python2"
  },
  "language_info": {
   "codemirror_mode": {
    "name": "ipython",
    "version": 2
   },
   "file_extension": ".py",
   "mimetype": "text/x-python",
   "name": "python",
   "nbconvert_exporter": "python",
   "pygments_lexer": "ipython2",
   "version": "2.7.13"
  }
 },
 "nbformat": 4,
 "nbformat_minor": 2
}

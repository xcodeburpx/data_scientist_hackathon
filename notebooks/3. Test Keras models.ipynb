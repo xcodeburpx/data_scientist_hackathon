{
 "cells": [
  {
   "cell_type": "code",
   "execution_count": 1,
   "metadata": {
    "ExecuteTime": {
     "end_time": "2017-05-27T11:18:28.064803Z",
     "start_time": "2017-05-27T11:18:28.047262Z"
    }
   },
   "outputs": [
    {
     "data": {
      "text/plain": [
       "'2.7.13 |Continuum Analytics, Inc.| (default, Dec 20 2016, 23:09:15) \\n[GCC 4.4.7 20120313 (Red Hat 4.4.7-1)]'"
      ]
     },
     "execution_count": 1,
     "metadata": {},
     "output_type": "execute_result"
    }
   ],
   "source": [
    "import sys\n",
    "sys.version"
   ]
  },
  {
   "cell_type": "code",
   "execution_count": 2,
   "metadata": {
    "ExecuteTime": {
     "end_time": "2017-05-27T11:18:28.450467Z",
     "start_time": "2017-05-27T11:18:28.219911Z"
    }
   },
   "outputs": [
    {
     "name": "stderr",
     "output_type": "stream",
     "text": [
      "/home/kinshiryuu-burp/anaconda3/envs/nitinol/lib/python2.7/site-packages/IPython/html.py:14: ShimWarning: The `IPython.html` package has been deprecated since IPython 4.0. You should import from `notebook` instead. `IPython.html.widgets` has moved to `ipywidgets`.\n",
      "  \"`IPython.html.widgets` has moved to `ipywidgets`.\", ShimWarning)\n"
     ]
    }
   ],
   "source": [
    "from __future__ import print_function \n",
    "import numpy as np\n",
    "import matplotlib.pyplot as plt\n",
    "import matplotlib\n",
    "from tqdm import trange, tqdm\n",
    "import pickle\n",
    "import seaborn as sns\n",
    "%matplotlib inline\n",
    "\n",
    "%matplotlib inline\n",
    "matplotlib.rcParams['figure.figsize'] = (5, 5)\n",
    "\n",
    "%load_ext autoreload\n",
    "%autoreload 2"
   ]
  },
  {
   "cell_type": "markdown",
   "metadata": {
    "ExecuteTime": {
     "end_time": "2017-05-25T12:30:28.770840Z",
     "start_time": "2017-05-25T12:30:28.759952Z"
    }
   },
   "source": [
    "# Data"
   ]
  },
  {
   "cell_type": "markdown",
   "metadata": {
    "collapsed": true
   },
   "source": [
    "## Load data"
   ]
  },
  {
   "cell_type": "code",
   "execution_count": 3,
   "metadata": {
    "ExecuteTime": {
     "end_time": "2017-05-27T11:18:29.084000Z",
     "start_time": "2017-05-27T11:18:28.943725Z"
    },
    "collapsed": true
   },
   "outputs": [],
   "source": [
    "from hackathon.utils.utils import *\n",
    "from hackathon.utils.draw_utils import *\n",
    "import pandas as pd"
   ]
  },
  {
   "cell_type": "code",
   "execution_count": 4,
   "metadata": {
    "ExecuteTime": {
     "end_time": "2017-05-27T11:18:29.897184Z",
     "start_time": "2017-05-27T11:18:29.169602Z"
    },
    "collapsed": true
   },
   "outputs": [],
   "source": [
    "test_data = parse_data(\"../data/test_data.csv\")\n",
    "train_data = parse_data(\"../data/train_data.csv\")\n"
   ]
  },
  {
   "cell_type": "code",
   "execution_count": 5,
   "metadata": {
    "ExecuteTime": {
     "end_time": "2017-05-27T11:18:30.357607Z",
     "start_time": "2017-05-27T11:18:30.346157Z"
    }
   },
   "outputs": [
    {
     "data": {
      "text/plain": [
       "((55375, 81), (4344, 81))"
      ]
     },
     "execution_count": 5,
     "metadata": {},
     "output_type": "execute_result"
    }
   ],
   "source": [
    "train_data.shape, test_data.shape"
   ]
  },
  {
   "cell_type": "code",
   "execution_count": 6,
   "metadata": {
    "ExecuteTime": {
     "end_time": "2017-05-27T11:18:30.857833Z",
     "start_time": "2017-05-27T11:18:30.821889Z"
    }
   },
   "outputs": [
    {
     "data": {
      "text/html": [
       "<div>\n",
       "<style>\n",
       "    .dataframe thead tr:only-child th {\n",
       "        text-align: right;\n",
       "    }\n",
       "\n",
       "    .dataframe thead th {\n",
       "        text-align: left;\n",
       "    }\n",
       "\n",
       "    .dataframe tbody tr th {\n",
       "        vertical-align: top;\n",
       "    }\n",
       "</style>\n",
       "<table border=\"1\" class=\"dataframe\">\n",
       "  <thead>\n",
       "    <tr style=\"text-align: right;\">\n",
       "      <th></th>\n",
       "      <th>NPWD2372</th>\n",
       "      <th>NPWD2401</th>\n",
       "      <th>NPWD2402</th>\n",
       "      <th>NPWD2451</th>\n",
       "      <th>NPWD2471</th>\n",
       "      <th>NPWD2472</th>\n",
       "      <th>NPWD2481</th>\n",
       "      <th>NPWD2482</th>\n",
       "      <th>NPWD2491</th>\n",
       "      <th>NPWD2501</th>\n",
       "      <th>...</th>\n",
       "      <th>D3POCM</th>\n",
       "      <th>D2PLND</th>\n",
       "      <th>D5PPHB</th>\n",
       "      <th>D7PLTS</th>\n",
       "      <th>D8PLTP</th>\n",
       "      <th>SPOT</th>\n",
       "      <th>D9PSPO</th>\n",
       "      <th>usbx</th>\n",
       "      <th>usby</th>\n",
       "      <th>usbz</th>\n",
       "    </tr>\n",
       "    <tr>\n",
       "      <th>ut_ms</th>\n",
       "      <th></th>\n",
       "      <th></th>\n",
       "      <th></th>\n",
       "      <th></th>\n",
       "      <th></th>\n",
       "      <th></th>\n",
       "      <th></th>\n",
       "      <th></th>\n",
       "      <th></th>\n",
       "      <th></th>\n",
       "      <th></th>\n",
       "      <th></th>\n",
       "      <th></th>\n",
       "      <th></th>\n",
       "      <th></th>\n",
       "      <th></th>\n",
       "      <th></th>\n",
       "      <th></th>\n",
       "      <th></th>\n",
       "      <th></th>\n",
       "      <th></th>\n",
       "    </tr>\n",
       "  </thead>\n",
       "  <tbody>\n",
       "    <tr>\n",
       "      <th>2008-08-22 00:00:00</th>\n",
       "      <td>0.133582</td>\n",
       "      <td>0.001552</td>\n",
       "      <td>0.175436</td>\n",
       "      <td>0.657240</td>\n",
       "      <td>0.000747</td>\n",
       "      <td>0.000661</td>\n",
       "      <td>0.000585</td>\n",
       "      <td>0.001927</td>\n",
       "      <td>0.244648</td>\n",
       "      <td>0.005277</td>\n",
       "      <td>...</td>\n",
       "      <td>0</td>\n",
       "      <td>0</td>\n",
       "      <td>0</td>\n",
       "      <td>0</td>\n",
       "      <td>0</td>\n",
       "      <td>0</td>\n",
       "      <td>0</td>\n",
       "      <td>0.966206</td>\n",
       "      <td>-0.145126</td>\n",
       "      <td>-0.213039</td>\n",
       "    </tr>\n",
       "    <tr>\n",
       "      <th>2008-08-22 01:00:00</th>\n",
       "      <td>0.217001</td>\n",
       "      <td>0.001498</td>\n",
       "      <td>0.175888</td>\n",
       "      <td>0.854918</td>\n",
       "      <td>0.000717</td>\n",
       "      <td>0.000628</td>\n",
       "      <td>0.000551</td>\n",
       "      <td>0.001834</td>\n",
       "      <td>0.230870</td>\n",
       "      <td>0.005010</td>\n",
       "      <td>...</td>\n",
       "      <td>0</td>\n",
       "      <td>0</td>\n",
       "      <td>0</td>\n",
       "      <td>0</td>\n",
       "      <td>0</td>\n",
       "      <td>0</td>\n",
       "      <td>0</td>\n",
       "      <td>-0.557435</td>\n",
       "      <td>0.791627</td>\n",
       "      <td>-0.250185</td>\n",
       "    </tr>\n",
       "    <tr>\n",
       "      <th>2008-08-22 02:00:00</th>\n",
       "      <td>0.155922</td>\n",
       "      <td>0.001503</td>\n",
       "      <td>0.175389</td>\n",
       "      <td>1.079016</td>\n",
       "      <td>0.000719</td>\n",
       "      <td>0.000636</td>\n",
       "      <td>0.000568</td>\n",
       "      <td>0.001856</td>\n",
       "      <td>0.202746</td>\n",
       "      <td>0.005135</td>\n",
       "      <td>...</td>\n",
       "      <td>0</td>\n",
       "      <td>0</td>\n",
       "      <td>0</td>\n",
       "      <td>0</td>\n",
       "      <td>0</td>\n",
       "      <td>0</td>\n",
       "      <td>0</td>\n",
       "      <td>0.236644</td>\n",
       "      <td>0.943469</td>\n",
       "      <td>-0.232088</td>\n",
       "    </tr>\n",
       "  </tbody>\n",
       "</table>\n",
       "<p>3 rows × 81 columns</p>\n",
       "</div>"
      ],
      "text/plain": [
       "                     NPWD2372  NPWD2401  NPWD2402  NPWD2451  NPWD2471  \\\n",
       "ut_ms                                                                   \n",
       "2008-08-22 00:00:00  0.133582  0.001552  0.175436  0.657240  0.000747   \n",
       "2008-08-22 01:00:00  0.217001  0.001498  0.175888  0.854918  0.000717   \n",
       "2008-08-22 02:00:00  0.155922  0.001503  0.175389  1.079016  0.000719   \n",
       "\n",
       "                     NPWD2472  NPWD2481  NPWD2482  NPWD2491  NPWD2501  \\\n",
       "ut_ms                                                                   \n",
       "2008-08-22 00:00:00  0.000661  0.000585  0.001927  0.244648  0.005277   \n",
       "2008-08-22 01:00:00  0.000628  0.000551  0.001834  0.230870  0.005010   \n",
       "2008-08-22 02:00:00  0.000636  0.000568  0.001856  0.202746  0.005135   \n",
       "\n",
       "                       ...     D3POCM  D2PLND  D5PPHB  D7PLTS  D8PLTP  SPOT  \\\n",
       "ut_ms                  ...                                                    \n",
       "2008-08-22 00:00:00    ...          0       0       0       0       0     0   \n",
       "2008-08-22 01:00:00    ...          0       0       0       0       0     0   \n",
       "2008-08-22 02:00:00    ...          0       0       0       0       0     0   \n",
       "\n",
       "                     D9PSPO      usbx      usby      usbz  \n",
       "ut_ms                                                      \n",
       "2008-08-22 00:00:00       0  0.966206 -0.145126 -0.213039  \n",
       "2008-08-22 01:00:00       0 -0.557435  0.791627 -0.250185  \n",
       "2008-08-22 02:00:00       0  0.236644  0.943469 -0.232088  \n",
       "\n",
       "[3 rows x 81 columns]"
      ]
     },
     "execution_count": 6,
     "metadata": {},
     "output_type": "execute_result"
    }
   ],
   "source": [
    "train_data[:3]"
   ]
  },
  {
   "cell_type": "code",
   "execution_count": 7,
   "metadata": {
    "ExecuteTime": {
     "end_time": "2017-05-27T11:18:31.406994Z",
     "start_time": "2017-05-27T11:18:31.383873Z"
    },
    "scrolled": true
   },
   "outputs": [
    {
     "name": "stdout",
     "output_type": "stream",
     "text": [
      "0 NPWD2372\n",
      "1 NPWD2401\n",
      "2 NPWD2402\n",
      "3 NPWD2451\n",
      "4 NPWD2471\n",
      "5 NPWD2472\n",
      "6 NPWD2481\n",
      "7 NPWD2482\n",
      "8 NPWD2491\n",
      "9 NPWD2501\n",
      "10 NPWD2531\n",
      "11 NPWD2532\n",
      "12 NPWD2551\n",
      "13 NPWD2552\n",
      "14 NPWD2561\n",
      "15 NPWD2562\n",
      "16 NPWD2691\n",
      "17 NPWD2692\n",
      "18 NPWD2721\n",
      "19 NPWD2722\n",
      "20 NPWD2742\n",
      "21 NPWD2771\n",
      "22 NPWD2791\n",
      "23 NPWD2792\n",
      "24 NPWD2801\n",
      "25 NPWD2802\n",
      "26 NPWD2821\n",
      "27 NPWD2851\n",
      "28 NPWD2852\n",
      "29 NPWD2871\n",
      "30 NPWD2872\n",
      "31 NPWD2881\n",
      "32 NPWD2882\n",
      "33 sunmars_km\n",
      "34 earthmars_km\n",
      "35 sunmarsearthangle_deg\n",
      "36 solarconstantmars\n",
      "37 eclipseduration_min\n",
      "38 occultationduration_min\n",
      "39 sa\n",
      "40 sx\n",
      "41 sy\n",
      "42 sz\n",
      "43 dmop_count_24h_AAAA\n",
      "44 dmop_count_24h_AACF\n",
      "45 dmop_count_24h_ADMC\n",
      "46 dmop_count_24h_AHHH\n",
      "47 dmop_count_24h_AMMM\n",
      "48 dmop_count_24h_AOOO\n",
      "49 dmop_count_24h_APSF\n",
      "50 dmop_count_24h_APWF\n",
      "51 dmop_count_24h_ASEQ\n",
      "52 dmop_count_24h_ASSS\n",
      "53 dmop_count_24h_ASXX\n",
      "54 dmop_count_24h_ATMB\n",
      "55 dmop_count_24h_ATTT\n",
      "56 dmop_count_24h_AVVV\n",
      "57 dmop_count_24h_AXXX\n",
      "58 dmop_count_24h_sum\n",
      "59 flagcomms\n",
      "60 EARTH\n",
      "61 SLEW\n",
      "62 NADIR\n",
      "63 MAINTENANCE\n",
      "64 INERTIAL\n",
      "65 ACROSS_TRACK\n",
      "66 WARMUP\n",
      "67 D1PVMC\n",
      "68 RADIO_SCIENCE\n",
      "69 SPECULAR\n",
      "70 D4PNPO\n",
      "71 D3POCM\n",
      "72 D2PLND\n",
      "73 D5PPHB\n",
      "74 D7PLTS\n",
      "75 D8PLTP\n",
      "76 SPOT\n",
      "77 D9PSPO\n",
      "78 usbx\n",
      "79 usby\n",
      "80 usbz\n"
     ]
    }
   ],
   "source": [
    "for i, c in enumerate(train_data.columns):\n",
    "    print(i, c)"
   ]
  },
  {
   "cell_type": "markdown",
   "metadata": {},
   "source": [
    "## Split dataset into train/valid datasets\n",
    "\n",
    "Here one should take special care about how to split train dataset. It is better to consider multifold cross validation scheme."
   ]
  },
  {
   "cell_type": "code",
   "execution_count": 8,
   "metadata": {
    "ExecuteTime": {
     "end_time": "2017-05-27T11:18:32.730106Z",
     "start_time": "2017-05-27T11:18:31.888886Z"
    }
   },
   "outputs": [
    {
     "data": {
      "text/plain": [
       "<matplotlib.axes._subplots.AxesSubplot at 0x7f28645c8810>"
      ]
     },
     "execution_count": 8,
     "metadata": {},
     "output_type": "execute_result"
    },
    {
     "data": {
      "image/png": "[encoded data removed]",
      "text/plain": [
       "<matplotlib.figure.Figure at 0x7f2829128290>"
      ]
     },
     "metadata": {},
     "output_type": "display_data"
    }
   ],
   "source": [
    "train_data.NPWD2372.plot(figsize=(20, 4))"
   ]
  },
  {
   "cell_type": "code",
   "execution_count": 9,
   "metadata": {
    "ExecuteTime": {
     "end_time": "2017-05-27T11:18:33.184286Z",
     "start_time": "2017-05-27T11:18:33.173532Z"
    },
    "collapsed": true
   },
   "outputs": [],
   "source": [
    "train_dates = train_data.index < '2013-01-01 00:00:00'"
   ]
  },
  {
   "cell_type": "code",
   "execution_count": 10,
   "metadata": {
    "ExecuteTime": {
     "end_time": "2017-05-27T11:18:33.667187Z",
     "start_time": "2017-05-27T11:18:33.645656Z"
    }
   },
   "outputs": [
    {
     "data": {
      "text/plain": [
       "((37928, 81), (17447, 81))"
      ]
     },
     "execution_count": 10,
     "metadata": {},
     "output_type": "execute_result"
    }
   ],
   "source": [
    "train_df = train_data[train_dates]\n",
    "valid_df = train_data[~train_dates]\n",
    "\n",
    "train_df.shape, valid_df.shape"
   ]
  },
  {
   "cell_type": "code",
   "execution_count": 11,
   "metadata": {
    "ExecuteTime": {
     "end_time": "2017-05-27T11:18:35.513042Z",
     "start_time": "2017-05-27T11:18:34.456089Z"
    }
   },
   "outputs": [
    {
     "data": {
      "image/png": "[encoded data removed]",
      "text/plain": [
       "<matplotlib.figure.Figure at 0x7f28285fe310>"
      ]
     },
     "metadata": {},
     "output_type": "display_data"
    },
    {
     "data": {
      "text/plain": [
       "<matplotlib.axes._subplots.AxesSubplot at 0x7f282889f250>"
      ]
     },
     "execution_count": 11,
     "metadata": {},
     "output_type": "execute_result"
    },
    {
     "data": {
      "image/png": "[encoded data removed]",
      "text/plain": [
       "<matplotlib.figure.Figure at 0x7f2826dcae10>"
      ]
     },
     "metadata": {},
     "output_type": "display_data"
    }
   ],
   "source": [
    "train_df.NPWD2372.plot(figsize=(20, 4))\n",
    "plt.show()\n",
    "valid_df.NPWD2372.plot(figsize=(20, 4))"
   ]
  },
  {
   "cell_type": "code",
   "execution_count": 12,
   "metadata": {
    "ExecuteTime": {
     "end_time": "2017-05-27T11:18:36.303291Z",
     "start_time": "2017-05-27T11:18:36.289364Z"
    },
    "scrolled": false
   },
   "outputs": [
    {
     "data": {
      "text/plain": [
       "['sunmars_km',\n",
       " 'earthmars_km',\n",
       " 'sunmarsearthangle_deg',\n",
       " 'solarconstantmars',\n",
       " 'eclipseduration_min',\n",
       " 'occultationduration_min',\n",
       " 'sa',\n",
       " 'sx',\n",
       " 'sy',\n",
       " 'sz',\n",
       " 'dmop_count_24h_AAAA',\n",
       " 'dmop_count_24h_AACF',\n",
       " 'dmop_count_24h_ADMC',\n",
       " 'dmop_count_24h_AHHH',\n",
       " 'dmop_count_24h_AMMM',\n",
       " 'dmop_count_24h_AOOO',\n",
       " 'dmop_count_24h_APSF',\n",
       " 'dmop_count_24h_APWF',\n",
       " 'dmop_count_24h_ASEQ',\n",
       " 'dmop_count_24h_ASSS',\n",
       " 'dmop_count_24h_ASXX',\n",
       " 'dmop_count_24h_ATMB',\n",
       " 'dmop_count_24h_ATTT',\n",
       " 'dmop_count_24h_AVVV',\n",
       " 'dmop_count_24h_AXXX',\n",
       " 'dmop_count_24h_sum',\n",
       " 'flagcomms',\n",
       " 'EARTH',\n",
       " 'SLEW',\n",
       " 'NADIR',\n",
       " 'MAINTENANCE',\n",
       " 'INERTIAL',\n",
       " 'ACROSS_TRACK',\n",
       " 'WARMUP',\n",
       " 'D1PVMC',\n",
       " 'RADIO_SCIENCE',\n",
       " 'SPECULAR',\n",
       " 'D4PNPO',\n",
       " 'D3POCM',\n",
       " 'D2PLND',\n",
       " 'D5PPHB',\n",
       " 'D7PLTS',\n",
       " 'D8PLTP',\n",
       " 'SPOT',\n",
       " 'D9PSPO',\n",
       " 'usbx',\n",
       " 'usby',\n",
       " 'usbz']"
      ]
     },
     "execution_count": 12,
     "metadata": {},
     "output_type": "execute_result"
    }
   ],
   "source": [
    "x_columns = filter(lambda x: \"NPWD\" not in x \n",
    "                   and 'ut_ms' not in x, train_df.columns)\n",
    "x_columns"
   ]
  },
  {
   "cell_type": "code",
   "execution_count": 13,
   "metadata": {
    "ExecuteTime": {
     "end_time": "2017-05-27T11:18:37.145671Z",
     "start_time": "2017-05-27T11:18:37.133601Z"
    },
    "scrolled": false
   },
   "outputs": [
    {
     "data": {
      "text/plain": [
       "['NPWD2372',\n",
       " 'NPWD2401',\n",
       " 'NPWD2402',\n",
       " 'NPWD2451',\n",
       " 'NPWD2471',\n",
       " 'NPWD2472',\n",
       " 'NPWD2481',\n",
       " 'NPWD2482',\n",
       " 'NPWD2491',\n",
       " 'NPWD2501',\n",
       " 'NPWD2531',\n",
       " 'NPWD2532',\n",
       " 'NPWD2551',\n",
       " 'NPWD2552',\n",
       " 'NPWD2561',\n",
       " 'NPWD2562',\n",
       " 'NPWD2691',\n",
       " 'NPWD2692',\n",
       " 'NPWD2721',\n",
       " 'NPWD2722',\n",
       " 'NPWD2742',\n",
       " 'NPWD2771',\n",
       " 'NPWD2791',\n",
       " 'NPWD2792',\n",
       " 'NPWD2801',\n",
       " 'NPWD2802',\n",
       " 'NPWD2821',\n",
       " 'NPWD2851',\n",
       " 'NPWD2852',\n",
       " 'NPWD2871',\n",
       " 'NPWD2872',\n",
       " 'NPWD2881',\n",
       " 'NPWD2882']"
      ]
     },
     "execution_count": 13,
     "metadata": {},
     "output_type": "execute_result"
    }
   ],
   "source": [
    "y_columns = filter(lambda x: \"NPWD\"  in x, train_df.columns)\n",
    "y_columns"
   ]
  },
  {
   "cell_type": "code",
   "execution_count": 14,
   "metadata": {
    "ExecuteTime": {
     "end_time": "2017-05-27T11:18:37.980102Z",
     "start_time": "2017-05-27T11:18:37.957832Z"
    },
    "collapsed": true
   },
   "outputs": [],
   "source": [
    "# create train/valid datasets\n",
    "X_train = train_df[x_columns]\n",
    "y_train = train_df[y_columns]\n",
    "\n",
    "X_valid = valid_df[x_columns]\n",
    "y_valid = valid_df[y_columns]\n",
    "\n",
    "X_test = test_data[x_columns]"
   ]
  },
  {
   "cell_type": "markdown",
   "metadata": {
    "ExecuteTime": {
     "end_time": "2017-05-25T12:30:15.957515Z",
     "start_time": "2017-05-25T12:30:15.930534Z"
    }
   },
   "source": [
    "# Testing simple models"
   ]
  },
  {
   "cell_type": "markdown",
   "metadata": {
    "ExecuteTime": {
     "end_time": "2017-05-25T12:33:03.239392Z",
     "start_time": "2017-05-25T12:33:03.209983Z"
    }
   },
   "source": [
    "## Mean power model - the baseline"
   ]
  },
  {
   "cell_type": "code",
   "execution_count": 15,
   "metadata": {
    "collapsed": true
   },
   "outputs": [],
   "source": [
    "namesa = ['sunmars_km',\n",
    " 'earthmars_km',\n",
    " 'sunmarsearthangle_deg',\n",
    " 'solarconstantmars',\n",
    " 'eclipseduration_min',\n",
    " 'occultationduration_min',\n",
    " 'sa',\n",
    " 'sx',\n",
    " 'sy',\n",
    " 'sz',\n",
    " 'dmop_count_24h_AAAA',\n",
    " 'dmop_count_24h_AACF',\n",
    " 'dmop_count_24h_ADMC',\n",
    " 'dmop_count_24h_AHHH',\n",
    " 'dmop_count_24h_AMMM',\n",
    " 'dmop_count_24h_AOOO',\n",
    " 'dmop_count_24h_APSF',\n",
    " 'dmop_count_24h_APWF',\n",
    " 'dmop_count_24h_ASEQ',\n",
    " 'dmop_count_24h_ASSS',\n",
    " 'dmop_count_24h_ASXX',\n",
    " 'dmop_count_24h_ATMB',\n",
    " 'dmop_count_24h_ATTT',\n",
    " 'dmop_count_24h_AVVV',\n",
    " 'dmop_count_24h_AXXX',\n",
    " 'dmop_count_24h_sum']\n",
    "\n",
    "names = ['NPWD2372',\n",
    " 'NPWD2401',\n",
    " 'NPWD2402',\n",
    " 'NPWD2451',\n",
    " 'NPWD2471',\n",
    " 'NPWD2472',\n",
    " 'NPWD2481',\n",
    " 'NPWD2482',\n",
    " 'NPWD2491',\n",
    " 'NPWD2501',\n",
    " 'NPWD2531',\n",
    " 'NPWD2532',\n",
    " 'NPWD2551',\n",
    " 'NPWD2552',\n",
    " 'NPWD2561',\n",
    " 'NPWD2562',\n",
    " 'NPWD2691',\n",
    " 'NPWD2692',\n",
    " 'NPWD2721',\n",
    " 'NPWD2722',\n",
    " 'NPWD2742',\n",
    " 'NPWD2771',\n",
    " 'NPWD2791',\n",
    " 'NPWD2792',\n",
    " 'NPWD2801',\n",
    " 'NPWD2802',\n",
    " 'NPWD2821',\n",
    " 'NPWD2851',\n",
    " 'NPWD2852',\n",
    " 'NPWD2871',\n",
    " 'NPWD2872',\n",
    " 'NPWD2881',\n",
    " 'NPWD2882']"
   ]
  },
  {
   "cell_type": "code",
   "execution_count": null,
   "metadata": {
    "scrolled": false
   },
   "outputs": [],
   "source": []
  },
  {
   "cell_type": "code",
   "execution_count": null,
   "metadata": {
    "collapsed": true
   },
   "outputs": [],
   "source": []
  },
  {
   "cell_type": "code",
   "execution_count": 15,
   "metadata": {
    "ExecuteTime": {
     "end_time": "2017-05-27T11:18:39.895975Z",
     "start_time": "2017-05-27T11:18:39.681198Z"
    },
    "collapsed": true
   },
   "outputs": [],
   "source": [
    "from sklearn.base import BaseEstimator"
   ]
  },
  {
   "cell_type": "code",
   "execution_count": 16,
   "metadata": {
    "ExecuteTime": {
     "end_time": "2017-05-27T11:18:41.515415Z",
     "start_time": "2017-05-27T11:18:41.500068Z"
    },
    "collapsed": true
   },
   "outputs": [],
   "source": [
    "all_models = {}"
   ]
  },
  {
   "cell_type": "code",
   "execution_count": 17,
   "metadata": {
    "ExecuteTime": {
     "end_time": "2017-05-27T11:18:43.227579Z",
     "start_time": "2017-05-27T11:18:43.117057Z"
    },
    "collapsed": true
   },
   "outputs": [],
   "source": [
    "class BaseModel(BaseEstimator):\n",
    "    def __init__(self, method='mean'):\n",
    "        self.method = method    \n",
    "        self.eval_info = {}\n",
    "        \n",
    "    def fit(self, X_data, y_data):\n",
    "        self.y_pred = y_train.agg([self.method], axis=0).values\n",
    "    \n",
    "    def predict(self, X_test):\n",
    "        y_pred = np.zeros(shape=[X_test.shape[0], self.y_pred.shape[1]]) + self.y_pred\n",
    "        return y_pred\n",
    "    \n",
    "    def evaluate_rmse(self, train_dataset, valid_dataset, info=\"\", verbose=True):        \n",
    "        y_train_pred = self.predict(train_dataset[0])\n",
    "        y_valid_pred = self.predict(valid_dataset[0])\n",
    "        \n",
    "        train_rmse = RMSE(train_dataset[1], y_train_pred)\n",
    "        valid_rmse = RMSE(valid_dataset[1], y_valid_pred)\n",
    "                \n",
    "        self.eval_info['info'] = info\n",
    "        self.eval_info['name'] = self.__class__.__name__\n",
    "        self.eval_info['train_rmse'] = train_rmse\n",
    "        self.eval_info['valid_rmse'] = valid_rmse\n",
    "        self.eval_info['valid_rmse_per_line'] = RMSE(valid_dataset[1], y_valid_pred, axis=0)\n",
    "        \n",
    "        if verbose:\n",
    "            print(self.__class__.__name__ + \": \" + info)\n",
    "            print(\"RMSE train = \", train_rmse)\n",
    "            print(\"RMSE valid = \", valid_rmse)\n",
    "    \n",
    "\n",
    "mean_model = BaseModel(method='mean')\n",
    "mean_model.fit(X_train, y_train)\n",
    "\n",
    "median_model = BaseModel(method='median')\n",
    "median_model.fit(X_train, y_train)"
   ]
  },
  {
   "cell_type": "code",
   "execution_count": 18,
   "metadata": {
    "ExecuteTime": {
     "end_time": "2017-05-27T11:18:44.937119Z",
     "start_time": "2017-05-27T11:18:44.896972Z"
    }
   },
   "outputs": [
    {
     "name": "stdout",
     "output_type": "stream",
     "text": [
      "BaseModel: mean model\n",
      "RMSE train =  0.112497392843\n",
      "RMSE valid =  0.129156588991\n",
      "BaseModel: median model\n",
      "RMSE train =  0.123222378999\n",
      "RMSE valid =  0.149133167259\n"
     ]
    }
   ],
   "source": [
    "mean_model.evaluate_rmse(train_dataset=(X_train.values, y_train.values), \n",
    "                         valid_dataset=(X_valid.values, y_valid.values), \n",
    "                         info=\"mean model\")\n",
    "\n",
    "all_models['mean_model'] = mean_model\n",
    "\n",
    "median_model.evaluate_rmse(train_dataset=(X_train.values, y_train.values), \n",
    "                         valid_dataset=(X_valid.values, y_valid.values), \n",
    "                         info=\"median model\")\n",
    "\n",
    "all_models['median_model'] = median_model"
   ]
  },
  {
   "cell_type": "code",
   "execution_count": 19,
   "metadata": {
    "ExecuteTime": {
     "end_time": "2017-05-27T11:18:46.625786Z",
     "start_time": "2017-05-27T11:18:46.598860Z"
    }
   },
   "outputs": [
    {
     "data": {
      "text/html": [
       "<div>\n",
       "<style>\n",
       "    .dataframe thead tr:only-child th {\n",
       "        text-align: right;\n",
       "    }\n",
       "\n",
       "    .dataframe thead th {\n",
       "        text-align: left;\n",
       "    }\n",
       "\n",
       "    .dataframe tbody tr th {\n",
       "        vertical-align: top;\n",
       "    }\n",
       "</style>\n",
       "<table border=\"1\" class=\"dataframe\">\n",
       "  <thead>\n",
       "    <tr style=\"text-align: right;\">\n",
       "      <th></th>\n",
       "      <th>NPWD2451</th>\n",
       "      <th>NPWD2532</th>\n",
       "      <th>NPWD2551</th>\n",
       "      <th>NPWD2561</th>\n",
       "      <th>NPWD2851</th>\n",
       "      <th>NPWD2881</th>\n",
       "      <th>train_rmse</th>\n",
       "      <th>valid_rmse</th>\n",
       "      <th>info</th>\n",
       "    </tr>\n",
       "  </thead>\n",
       "  <tbody>\n",
       "    <tr>\n",
       "      <th>BaseModel</th>\n",
       "      <td>0.401223</td>\n",
       "      <td>0.268071</td>\n",
       "      <td>0.628200</td>\n",
       "      <td>0.121259</td>\n",
       "      <td>0.203353</td>\n",
       "      <td>0.119656</td>\n",
       "      <td>0.123222</td>\n",
       "      <td>0.149133</td>\n",
       "      <td>median model</td>\n",
       "    </tr>\n",
       "    <tr>\n",
       "      <th>BaseModel</th>\n",
       "      <td>0.359447</td>\n",
       "      <td>0.251891</td>\n",
       "      <td>0.500584</td>\n",
       "      <td>0.113754</td>\n",
       "      <td>0.215772</td>\n",
       "      <td>0.117018</td>\n",
       "      <td>0.112497</td>\n",
       "      <td>0.129157</td>\n",
       "      <td>mean model</td>\n",
       "    </tr>\n",
       "  </tbody>\n",
       "</table>\n",
       "</div>"
      ],
      "text/plain": [
       "           NPWD2451  NPWD2532  NPWD2551  NPWD2561  NPWD2851  NPWD2881  \\\n",
       "BaseModel  0.401223  0.268071  0.628200  0.121259  0.203353  0.119656   \n",
       "BaseModel  0.359447  0.251891  0.500584  0.113754  0.215772  0.117018   \n",
       "\n",
       "           train_rmse  valid_rmse          info  \n",
       "BaseModel    0.123222    0.149133  median model  \n",
       "BaseModel    0.112497    0.129157    mean model  "
      ]
     },
     "execution_count": 19,
     "metadata": {},
     "output_type": "execute_result"
    }
   ],
   "source": [
    "from hackathon.utils.model_utils import benchmark_models, benchmark_model\n",
    "\n",
    "benchmark_models(all_models, y_columns)"
   ]
  },
  {
   "cell_type": "markdown",
   "metadata": {
    "ExecuteTime": {
     "end_time": "2017-05-27T07:18:29.063337Z",
     "start_time": "2017-05-27T07:18:29.043358Z"
    }
   },
   "source": [
    "## Create a submission file"
   ]
  },
  {
   "cell_type": "code",
   "execution_count": 20,
   "metadata": {
    "ExecuteTime": {
     "end_time": "2017-05-27T11:18:50.662688Z",
     "start_time": "2017-05-27T11:18:50.540986Z"
    },
    "collapsed": true
   },
   "outputs": [],
   "source": [
    "def create_submission_df(model, X_test_features, y_columns): \n",
    "    y_test_pred = model.predict(X_test_features)\n",
    "    submision_df = pd.DataFrame(data=y_test_pred, index=X_test.index, columns=y_columns)\n",
    "    submision_df.index = to_utms(submision_df.index)\n",
    "    return submision_df\n",
    "\n",
    "\n",
    "sub_df = create_submission_df(mean_model, X_test[x_columns], y_columns)\n",
    "sub_df.to_csv(\"../submissions/mean_model.csv\")"
   ]
  },
  {
   "cell_type": "code",
   "execution_count": 21,
   "metadata": {
    "ExecuteTime": {
     "end_time": "2017-05-27T11:18:52.565673Z",
     "start_time": "2017-05-27T11:18:52.509783Z"
    }
   },
   "outputs": [
    {
     "data": {
      "text/html": [
       "<div>\n",
       "<style>\n",
       "    .dataframe thead tr:only-child th {\n",
       "        text-align: right;\n",
       "    }\n",
       "\n",
       "    .dataframe thead th {\n",
       "        text-align: left;\n",
       "    }\n",
       "\n",
       "    .dataframe tbody tr th {\n",
       "        vertical-align: top;\n",
       "    }\n",
       "</style>\n",
       "<table border=\"1\" class=\"dataframe\">\n",
       "  <thead>\n",
       "    <tr style=\"text-align: right;\">\n",
       "      <th></th>\n",
       "      <th>NPWD2372</th>\n",
       "      <th>NPWD2401</th>\n",
       "      <th>NPWD2402</th>\n",
       "      <th>NPWD2451</th>\n",
       "      <th>NPWD2471</th>\n",
       "      <th>NPWD2472</th>\n",
       "      <th>NPWD2481</th>\n",
       "      <th>NPWD2482</th>\n",
       "      <th>NPWD2491</th>\n",
       "      <th>NPWD2501</th>\n",
       "      <th>...</th>\n",
       "      <th>NPWD2792</th>\n",
       "      <th>NPWD2801</th>\n",
       "      <th>NPWD2802</th>\n",
       "      <th>NPWD2821</th>\n",
       "      <th>NPWD2851</th>\n",
       "      <th>NPWD2852</th>\n",
       "      <th>NPWD2871</th>\n",
       "      <th>NPWD2872</th>\n",
       "      <th>NPWD2881</th>\n",
       "      <th>NPWD2882</th>\n",
       "    </tr>\n",
       "    <tr>\n",
       "      <th>ut_ms</th>\n",
       "      <th></th>\n",
       "      <th></th>\n",
       "      <th></th>\n",
       "      <th></th>\n",
       "      <th></th>\n",
       "      <th></th>\n",
       "      <th></th>\n",
       "      <th></th>\n",
       "      <th></th>\n",
       "      <th></th>\n",
       "      <th></th>\n",
       "      <th></th>\n",
       "      <th></th>\n",
       "      <th></th>\n",
       "      <th></th>\n",
       "      <th></th>\n",
       "      <th></th>\n",
       "      <th></th>\n",
       "      <th></th>\n",
       "      <th></th>\n",
       "      <th></th>\n",
       "    </tr>\n",
       "  </thead>\n",
       "  <tbody>\n",
       "    <tr>\n",
       "      <th>1420070400000</th>\n",
       "      <td>0.124869</td>\n",
       "      <td>0.002031</td>\n",
       "      <td>0.175337</td>\n",
       "      <td>0.658891</td>\n",
       "      <td>0.000739</td>\n",
       "      <td>0.00113</td>\n",
       "      <td>0.001091</td>\n",
       "      <td>0.002358</td>\n",
       "      <td>0.198768</td>\n",
       "      <td>0.005206</td>\n",
       "      <td>...</td>\n",
       "      <td>0.000903</td>\n",
       "      <td>0.001535</td>\n",
       "      <td>0.129058</td>\n",
       "      <td>0.005779</td>\n",
       "      <td>0.259312</td>\n",
       "      <td>0.000528</td>\n",
       "      <td>0.000522</td>\n",
       "      <td>0.000745</td>\n",
       "      <td>0.044744</td>\n",
       "      <td>0.003375</td>\n",
       "    </tr>\n",
       "    <tr>\n",
       "      <th>1420074000000</th>\n",
       "      <td>0.124869</td>\n",
       "      <td>0.002031</td>\n",
       "      <td>0.175337</td>\n",
       "      <td>0.658891</td>\n",
       "      <td>0.000739</td>\n",
       "      <td>0.00113</td>\n",
       "      <td>0.001091</td>\n",
       "      <td>0.002358</td>\n",
       "      <td>0.198768</td>\n",
       "      <td>0.005206</td>\n",
       "      <td>...</td>\n",
       "      <td>0.000903</td>\n",
       "      <td>0.001535</td>\n",
       "      <td>0.129058</td>\n",
       "      <td>0.005779</td>\n",
       "      <td>0.259312</td>\n",
       "      <td>0.000528</td>\n",
       "      <td>0.000522</td>\n",
       "      <td>0.000745</td>\n",
       "      <td>0.044744</td>\n",
       "      <td>0.003375</td>\n",
       "    </tr>\n",
       "    <tr>\n",
       "      <th>1420077600000</th>\n",
       "      <td>0.124869</td>\n",
       "      <td>0.002031</td>\n",
       "      <td>0.175337</td>\n",
       "      <td>0.658891</td>\n",
       "      <td>0.000739</td>\n",
       "      <td>0.00113</td>\n",
       "      <td>0.001091</td>\n",
       "      <td>0.002358</td>\n",
       "      <td>0.198768</td>\n",
       "      <td>0.005206</td>\n",
       "      <td>...</td>\n",
       "      <td>0.000903</td>\n",
       "      <td>0.001535</td>\n",
       "      <td>0.129058</td>\n",
       "      <td>0.005779</td>\n",
       "      <td>0.259312</td>\n",
       "      <td>0.000528</td>\n",
       "      <td>0.000522</td>\n",
       "      <td>0.000745</td>\n",
       "      <td>0.044744</td>\n",
       "      <td>0.003375</td>\n",
       "    </tr>\n",
       "    <tr>\n",
       "      <th>1420081200000</th>\n",
       "      <td>0.124869</td>\n",
       "      <td>0.002031</td>\n",
       "      <td>0.175337</td>\n",
       "      <td>0.658891</td>\n",
       "      <td>0.000739</td>\n",
       "      <td>0.00113</td>\n",
       "      <td>0.001091</td>\n",
       "      <td>0.002358</td>\n",
       "      <td>0.198768</td>\n",
       "      <td>0.005206</td>\n",
       "      <td>...</td>\n",
       "      <td>0.000903</td>\n",
       "      <td>0.001535</td>\n",
       "      <td>0.129058</td>\n",
       "      <td>0.005779</td>\n",
       "      <td>0.259312</td>\n",
       "      <td>0.000528</td>\n",
       "      <td>0.000522</td>\n",
       "      <td>0.000745</td>\n",
       "      <td>0.044744</td>\n",
       "      <td>0.003375</td>\n",
       "    </tr>\n",
       "    <tr>\n",
       "      <th>1420084800000</th>\n",
       "      <td>0.124869</td>\n",
       "      <td>0.002031</td>\n",
       "      <td>0.175337</td>\n",
       "      <td>0.658891</td>\n",
       "      <td>0.000739</td>\n",
       "      <td>0.00113</td>\n",
       "      <td>0.001091</td>\n",
       "      <td>0.002358</td>\n",
       "      <td>0.198768</td>\n",
       "      <td>0.005206</td>\n",
       "      <td>...</td>\n",
       "      <td>0.000903</td>\n",
       "      <td>0.001535</td>\n",
       "      <td>0.129058</td>\n",
       "      <td>0.005779</td>\n",
       "      <td>0.259312</td>\n",
       "      <td>0.000528</td>\n",
       "      <td>0.000522</td>\n",
       "      <td>0.000745</td>\n",
       "      <td>0.044744</td>\n",
       "      <td>0.003375</td>\n",
       "    </tr>\n",
       "    <tr>\n",
       "      <th>1420088400000</th>\n",
       "      <td>0.124869</td>\n",
       "      <td>0.002031</td>\n",
       "      <td>0.175337</td>\n",
       "      <td>0.658891</td>\n",
       "      <td>0.000739</td>\n",
       "      <td>0.00113</td>\n",
       "      <td>0.001091</td>\n",
       "      <td>0.002358</td>\n",
       "      <td>0.198768</td>\n",
       "      <td>0.005206</td>\n",
       "      <td>...</td>\n",
       "      <td>0.000903</td>\n",
       "      <td>0.001535</td>\n",
       "      <td>0.129058</td>\n",
       "      <td>0.005779</td>\n",
       "      <td>0.259312</td>\n",
       "      <td>0.000528</td>\n",
       "      <td>0.000522</td>\n",
       "      <td>0.000745</td>\n",
       "      <td>0.044744</td>\n",
       "      <td>0.003375</td>\n",
       "    </tr>\n",
       "    <tr>\n",
       "      <th>1420092000000</th>\n",
       "      <td>0.124869</td>\n",
       "      <td>0.002031</td>\n",
       "      <td>0.175337</td>\n",
       "      <td>0.658891</td>\n",
       "      <td>0.000739</td>\n",
       "      <td>0.00113</td>\n",
       "      <td>0.001091</td>\n",
       "      <td>0.002358</td>\n",
       "      <td>0.198768</td>\n",
       "      <td>0.005206</td>\n",
       "      <td>...</td>\n",
       "      <td>0.000903</td>\n",
       "      <td>0.001535</td>\n",
       "      <td>0.129058</td>\n",
       "      <td>0.005779</td>\n",
       "      <td>0.259312</td>\n",
       "      <td>0.000528</td>\n",
       "      <td>0.000522</td>\n",
       "      <td>0.000745</td>\n",
       "      <td>0.044744</td>\n",
       "      <td>0.003375</td>\n",
       "    </tr>\n",
       "    <tr>\n",
       "      <th>1420095600000</th>\n",
       "      <td>0.124869</td>\n",
       "      <td>0.002031</td>\n",
       "      <td>0.175337</td>\n",
       "      <td>0.658891</td>\n",
       "      <td>0.000739</td>\n",
       "      <td>0.00113</td>\n",
       "      <td>0.001091</td>\n",
       "      <td>0.002358</td>\n",
       "      <td>0.198768</td>\n",
       "      <td>0.005206</td>\n",
       "      <td>...</td>\n",
       "      <td>0.000903</td>\n",
       "      <td>0.001535</td>\n",
       "      <td>0.129058</td>\n",
       "      <td>0.005779</td>\n",
       "      <td>0.259312</td>\n",
       "      <td>0.000528</td>\n",
       "      <td>0.000522</td>\n",
       "      <td>0.000745</td>\n",
       "      <td>0.044744</td>\n",
       "      <td>0.003375</td>\n",
       "    </tr>\n",
       "    <tr>\n",
       "      <th>1420099200000</th>\n",
       "      <td>0.124869</td>\n",
       "      <td>0.002031</td>\n",
       "      <td>0.175337</td>\n",
       "      <td>0.658891</td>\n",
       "      <td>0.000739</td>\n",
       "      <td>0.00113</td>\n",
       "      <td>0.001091</td>\n",
       "      <td>0.002358</td>\n",
       "      <td>0.198768</td>\n",
       "      <td>0.005206</td>\n",
       "      <td>...</td>\n",
       "      <td>0.000903</td>\n",
       "      <td>0.001535</td>\n",
       "      <td>0.129058</td>\n",
       "      <td>0.005779</td>\n",
       "      <td>0.259312</td>\n",
       "      <td>0.000528</td>\n",
       "      <td>0.000522</td>\n",
       "      <td>0.000745</td>\n",
       "      <td>0.044744</td>\n",
       "      <td>0.003375</td>\n",
       "    </tr>\n",
       "    <tr>\n",
       "      <th>1420102800000</th>\n",
       "      <td>0.124869</td>\n",
       "      <td>0.002031</td>\n",
       "      <td>0.175337</td>\n",
       "      <td>0.658891</td>\n",
       "      <td>0.000739</td>\n",
       "      <td>0.00113</td>\n",
       "      <td>0.001091</td>\n",
       "      <td>0.002358</td>\n",
       "      <td>0.198768</td>\n",
       "      <td>0.005206</td>\n",
       "      <td>...</td>\n",
       "      <td>0.000903</td>\n",
       "      <td>0.001535</td>\n",
       "      <td>0.129058</td>\n",
       "      <td>0.005779</td>\n",
       "      <td>0.259312</td>\n",
       "      <td>0.000528</td>\n",
       "      <td>0.000522</td>\n",
       "      <td>0.000745</td>\n",
       "      <td>0.044744</td>\n",
       "      <td>0.003375</td>\n",
       "    </tr>\n",
       "    <tr>\n",
       "      <th>1420106400000</th>\n",
       "      <td>0.124869</td>\n",
       "      <td>0.002031</td>\n",
       "      <td>0.175337</td>\n",
       "      <td>0.658891</td>\n",
       "      <td>0.000739</td>\n",
       "      <td>0.00113</td>\n",
       "      <td>0.001091</td>\n",
       "      <td>0.002358</td>\n",
       "      <td>0.198768</td>\n",
       "      <td>0.005206</td>\n",
       "      <td>...</td>\n",
       "      <td>0.000903</td>\n",
       "      <td>0.001535</td>\n",
       "      <td>0.129058</td>\n",
       "      <td>0.005779</td>\n",
       "      <td>0.259312</td>\n",
       "      <td>0.000528</td>\n",
       "      <td>0.000522</td>\n",
       "      <td>0.000745</td>\n",
       "      <td>0.044744</td>\n",
       "      <td>0.003375</td>\n",
       "    </tr>\n",
       "    <tr>\n",
       "      <th>1420110000000</th>\n",
       "      <td>0.124869</td>\n",
       "      <td>0.002031</td>\n",
       "      <td>0.175337</td>\n",
       "      <td>0.658891</td>\n",
       "      <td>0.000739</td>\n",
       "      <td>0.00113</td>\n",
       "      <td>0.001091</td>\n",
       "      <td>0.002358</td>\n",
       "      <td>0.198768</td>\n",
       "      <td>0.005206</td>\n",
       "      <td>...</td>\n",
       "      <td>0.000903</td>\n",
       "      <td>0.001535</td>\n",
       "      <td>0.129058</td>\n",
       "      <td>0.005779</td>\n",
       "      <td>0.259312</td>\n",
       "      <td>0.000528</td>\n",
       "      <td>0.000522</td>\n",
       "      <td>0.000745</td>\n",
       "      <td>0.044744</td>\n",
       "      <td>0.003375</td>\n",
       "    </tr>\n",
       "    <tr>\n",
       "      <th>1420113600000</th>\n",
       "      <td>0.124869</td>\n",
       "      <td>0.002031</td>\n",
       "      <td>0.175337</td>\n",
       "      <td>0.658891</td>\n",
       "      <td>0.000739</td>\n",
       "      <td>0.00113</td>\n",
       "      <td>0.001091</td>\n",
       "      <td>0.002358</td>\n",
       "      <td>0.198768</td>\n",
       "      <td>0.005206</td>\n",
       "      <td>...</td>\n",
       "      <td>0.000903</td>\n",
       "      <td>0.001535</td>\n",
       "      <td>0.129058</td>\n",
       "      <td>0.005779</td>\n",
       "      <td>0.259312</td>\n",
       "      <td>0.000528</td>\n",
       "      <td>0.000522</td>\n",
       "      <td>0.000745</td>\n",
       "      <td>0.044744</td>\n",
       "      <td>0.003375</td>\n",
       "    </tr>\n",
       "    <tr>\n",
       "      <th>1420117200000</th>\n",
       "      <td>0.124869</td>\n",
       "      <td>0.002031</td>\n",
       "      <td>0.175337</td>\n",
       "      <td>0.658891</td>\n",
       "      <td>0.000739</td>\n",
       "      <td>0.00113</td>\n",
       "      <td>0.001091</td>\n",
       "      <td>0.002358</td>\n",
       "      <td>0.198768</td>\n",
       "      <td>0.005206</td>\n",
       "      <td>...</td>\n",
       "      <td>0.000903</td>\n",
       "      <td>0.001535</td>\n",
       "      <td>0.129058</td>\n",
       "      <td>0.005779</td>\n",
       "      <td>0.259312</td>\n",
       "      <td>0.000528</td>\n",
       "      <td>0.000522</td>\n",
       "      <td>0.000745</td>\n",
       "      <td>0.044744</td>\n",
       "      <td>0.003375</td>\n",
       "    </tr>\n",
       "    <tr>\n",
       "      <th>1420120800000</th>\n",
       "      <td>0.124869</td>\n",
       "      <td>0.002031</td>\n",
       "      <td>0.175337</td>\n",
       "      <td>0.658891</td>\n",
       "      <td>0.000739</td>\n",
       "      <td>0.00113</td>\n",
       "      <td>0.001091</td>\n",
       "      <td>0.002358</td>\n",
       "      <td>0.198768</td>\n",
       "      <td>0.005206</td>\n",
       "      <td>...</td>\n",
       "      <td>0.000903</td>\n",
       "      <td>0.001535</td>\n",
       "      <td>0.129058</td>\n",
       "      <td>0.005779</td>\n",
       "      <td>0.259312</td>\n",
       "      <td>0.000528</td>\n",
       "      <td>0.000522</td>\n",
       "      <td>0.000745</td>\n",
       "      <td>0.044744</td>\n",
       "      <td>0.003375</td>\n",
       "    </tr>\n",
       "    <tr>\n",
       "      <th>1420124400000</th>\n",
       "      <td>0.124869</td>\n",
       "      <td>0.002031</td>\n",
       "      <td>0.175337</td>\n",
       "      <td>0.658891</td>\n",
       "      <td>0.000739</td>\n",
       "      <td>0.00113</td>\n",
       "      <td>0.001091</td>\n",
       "      <td>0.002358</td>\n",
       "      <td>0.198768</td>\n",
       "      <td>0.005206</td>\n",
       "      <td>...</td>\n",
       "      <td>0.000903</td>\n",
       "      <td>0.001535</td>\n",
       "      <td>0.129058</td>\n",
       "      <td>0.005779</td>\n",
       "      <td>0.259312</td>\n",
       "      <td>0.000528</td>\n",
       "      <td>0.000522</td>\n",
       "      <td>0.000745</td>\n",
       "      <td>0.044744</td>\n",
       "      <td>0.003375</td>\n",
       "    </tr>\n",
       "    <tr>\n",
       "      <th>1420128000000</th>\n",
       "      <td>0.124869</td>\n",
       "      <td>0.002031</td>\n",
       "      <td>0.175337</td>\n",
       "      <td>0.658891</td>\n",
       "      <td>0.000739</td>\n",
       "      <td>0.00113</td>\n",
       "      <td>0.001091</td>\n",
       "      <td>0.002358</td>\n",
       "      <td>0.198768</td>\n",
       "      <td>0.005206</td>\n",
       "      <td>...</td>\n",
       "      <td>0.000903</td>\n",
       "      <td>0.001535</td>\n",
       "      <td>0.129058</td>\n",
       "      <td>0.005779</td>\n",
       "      <td>0.259312</td>\n",
       "      <td>0.000528</td>\n",
       "      <td>0.000522</td>\n",
       "      <td>0.000745</td>\n",
       "      <td>0.044744</td>\n",
       "      <td>0.003375</td>\n",
       "    </tr>\n",
       "    <tr>\n",
       "      <th>1420131600000</th>\n",
       "      <td>0.124869</td>\n",
       "      <td>0.002031</td>\n",
       "      <td>0.175337</td>\n",
       "      <td>0.658891</td>\n",
       "      <td>0.000739</td>\n",
       "      <td>0.00113</td>\n",
       "      <td>0.001091</td>\n",
       "      <td>0.002358</td>\n",
       "      <td>0.198768</td>\n",
       "      <td>0.005206</td>\n",
       "      <td>...</td>\n",
       "      <td>0.000903</td>\n",
       "      <td>0.001535</td>\n",
       "      <td>0.129058</td>\n",
       "      <td>0.005779</td>\n",
       "      <td>0.259312</td>\n",
       "      <td>0.000528</td>\n",
       "      <td>0.000522</td>\n",
       "      <td>0.000745</td>\n",
       "      <td>0.044744</td>\n",
       "      <td>0.003375</td>\n",
       "    </tr>\n",
       "    <tr>\n",
       "      <th>1420135200000</th>\n",
       "      <td>0.124869</td>\n",
       "      <td>0.002031</td>\n",
       "      <td>0.175337</td>\n",
       "      <td>0.658891</td>\n",
       "      <td>0.000739</td>\n",
       "      <td>0.00113</td>\n",
       "      <td>0.001091</td>\n",
       "      <td>0.002358</td>\n",
       "      <td>0.198768</td>\n",
       "      <td>0.005206</td>\n",
       "      <td>...</td>\n",
       "      <td>0.000903</td>\n",
       "      <td>0.001535</td>\n",
       "      <td>0.129058</td>\n",
       "      <td>0.005779</td>\n",
       "      <td>0.259312</td>\n",
       "      <td>0.000528</td>\n",
       "      <td>0.000522</td>\n",
       "      <td>0.000745</td>\n",
       "      <td>0.044744</td>\n",
       "      <td>0.003375</td>\n",
       "    </tr>\n",
       "    <tr>\n",
       "      <th>1420138800000</th>\n",
       "      <td>0.124869</td>\n",
       "      <td>0.002031</td>\n",
       "      <td>0.175337</td>\n",
       "      <td>0.658891</td>\n",
       "      <td>0.000739</td>\n",
       "      <td>0.00113</td>\n",
       "      <td>0.001091</td>\n",
       "      <td>0.002358</td>\n",
       "      <td>0.198768</td>\n",
       "      <td>0.005206</td>\n",
       "      <td>...</td>\n",
       "      <td>0.000903</td>\n",
       "      <td>0.001535</td>\n",
       "      <td>0.129058</td>\n",
       "      <td>0.005779</td>\n",
       "      <td>0.259312</td>\n",
       "      <td>0.000528</td>\n",
       "      <td>0.000522</td>\n",
       "      <td>0.000745</td>\n",
       "      <td>0.044744</td>\n",
       "      <td>0.003375</td>\n",
       "    </tr>\n",
       "  </tbody>\n",
       "</table>\n",
       "<p>20 rows × 33 columns</p>\n",
       "</div>"
      ],
      "text/plain": [
       "               NPWD2372  NPWD2401  NPWD2402  NPWD2451  NPWD2471  NPWD2472  \\\n",
       "ut_ms                                                                       \n",
       "1420070400000  0.124869  0.002031  0.175337  0.658891  0.000739   0.00113   \n",
       "1420074000000  0.124869  0.002031  0.175337  0.658891  0.000739   0.00113   \n",
       "1420077600000  0.124869  0.002031  0.175337  0.658891  0.000739   0.00113   \n",
       "1420081200000  0.124869  0.002031  0.175337  0.658891  0.000739   0.00113   \n",
       "1420084800000  0.124869  0.002031  0.175337  0.658891  0.000739   0.00113   \n",
       "1420088400000  0.124869  0.002031  0.175337  0.658891  0.000739   0.00113   \n",
       "1420092000000  0.124869  0.002031  0.175337  0.658891  0.000739   0.00113   \n",
       "1420095600000  0.124869  0.002031  0.175337  0.658891  0.000739   0.00113   \n",
       "1420099200000  0.124869  0.002031  0.175337  0.658891  0.000739   0.00113   \n",
       "1420102800000  0.124869  0.002031  0.175337  0.658891  0.000739   0.00113   \n",
       "1420106400000  0.124869  0.002031  0.175337  0.658891  0.000739   0.00113   \n",
       "1420110000000  0.124869  0.002031  0.175337  0.658891  0.000739   0.00113   \n",
       "1420113600000  0.124869  0.002031  0.175337  0.658891  0.000739   0.00113   \n",
       "1420117200000  0.124869  0.002031  0.175337  0.658891  0.000739   0.00113   \n",
       "1420120800000  0.124869  0.002031  0.175337  0.658891  0.000739   0.00113   \n",
       "1420124400000  0.124869  0.002031  0.175337  0.658891  0.000739   0.00113   \n",
       "1420128000000  0.124869  0.002031  0.175337  0.658891  0.000739   0.00113   \n",
       "1420131600000  0.124869  0.002031  0.175337  0.658891  0.000739   0.00113   \n",
       "1420135200000  0.124869  0.002031  0.175337  0.658891  0.000739   0.00113   \n",
       "1420138800000  0.124869  0.002031  0.175337  0.658891  0.000739   0.00113   \n",
       "\n",
       "               NPWD2481  NPWD2482  NPWD2491  NPWD2501    ...     NPWD2792  \\\n",
       "ut_ms                                                    ...                \n",
       "1420070400000  0.001091  0.002358  0.198768  0.005206    ...     0.000903   \n",
       "1420074000000  0.001091  0.002358  0.198768  0.005206    ...     0.000903   \n",
       "1420077600000  0.001091  0.002358  0.198768  0.005206    ...     0.000903   \n",
       "1420081200000  0.001091  0.002358  0.198768  0.005206    ...     0.000903   \n",
       "1420084800000  0.001091  0.002358  0.198768  0.005206    ...     0.000903   \n",
       "1420088400000  0.001091  0.002358  0.198768  0.005206    ...     0.000903   \n",
       "1420092000000  0.001091  0.002358  0.198768  0.005206    ...     0.000903   \n",
       "1420095600000  0.001091  0.002358  0.198768  0.005206    ...     0.000903   \n",
       "1420099200000  0.001091  0.002358  0.198768  0.005206    ...     0.000903   \n",
       "1420102800000  0.001091  0.002358  0.198768  0.005206    ...     0.000903   \n",
       "1420106400000  0.001091  0.002358  0.198768  0.005206    ...     0.000903   \n",
       "1420110000000  0.001091  0.002358  0.198768  0.005206    ...     0.000903   \n",
       "1420113600000  0.001091  0.002358  0.198768  0.005206    ...     0.000903   \n",
       "1420117200000  0.001091  0.002358  0.198768  0.005206    ...     0.000903   \n",
       "1420120800000  0.001091  0.002358  0.198768  0.005206    ...     0.000903   \n",
       "1420124400000  0.001091  0.002358  0.198768  0.005206    ...     0.000903   \n",
       "1420128000000  0.001091  0.002358  0.198768  0.005206    ...     0.000903   \n",
       "1420131600000  0.001091  0.002358  0.198768  0.005206    ...     0.000903   \n",
       "1420135200000  0.001091  0.002358  0.198768  0.005206    ...     0.000903   \n",
       "1420138800000  0.001091  0.002358  0.198768  0.005206    ...     0.000903   \n",
       "\n",
       "               NPWD2801  NPWD2802  NPWD2821  NPWD2851  NPWD2852  NPWD2871  \\\n",
       "ut_ms                                                                       \n",
       "1420070400000  0.001535  0.129058  0.005779  0.259312  0.000528  0.000522   \n",
       "1420074000000  0.001535  0.129058  0.005779  0.259312  0.000528  0.000522   \n",
       "1420077600000  0.001535  0.129058  0.005779  0.259312  0.000528  0.000522   \n",
       "1420081200000  0.001535  0.129058  0.005779  0.259312  0.000528  0.000522   \n",
       "1420084800000  0.001535  0.129058  0.005779  0.259312  0.000528  0.000522   \n",
       "1420088400000  0.001535  0.129058  0.005779  0.259312  0.000528  0.000522   \n",
       "1420092000000  0.001535  0.129058  0.005779  0.259312  0.000528  0.000522   \n",
       "1420095600000  0.001535  0.129058  0.005779  0.259312  0.000528  0.000522   \n",
       "1420099200000  0.001535  0.129058  0.005779  0.259312  0.000528  0.000522   \n",
       "1420102800000  0.001535  0.129058  0.005779  0.259312  0.000528  0.000522   \n",
       "1420106400000  0.001535  0.129058  0.005779  0.259312  0.000528  0.000522   \n",
       "1420110000000  0.001535  0.129058  0.005779  0.259312  0.000528  0.000522   \n",
       "1420113600000  0.001535  0.129058  0.005779  0.259312  0.000528  0.000522   \n",
       "1420117200000  0.001535  0.129058  0.005779  0.259312  0.000528  0.000522   \n",
       "1420120800000  0.001535  0.129058  0.005779  0.259312  0.000528  0.000522   \n",
       "1420124400000  0.001535  0.129058  0.005779  0.259312  0.000528  0.000522   \n",
       "1420128000000  0.001535  0.129058  0.005779  0.259312  0.000528  0.000522   \n",
       "1420131600000  0.001535  0.129058  0.005779  0.259312  0.000528  0.000522   \n",
       "1420135200000  0.001535  0.129058  0.005779  0.259312  0.000528  0.000522   \n",
       "1420138800000  0.001535  0.129058  0.005779  0.259312  0.000528  0.000522   \n",
       "\n",
       "               NPWD2872  NPWD2881  NPWD2882  \n",
       "ut_ms                                        \n",
       "1420070400000  0.000745  0.044744  0.003375  \n",
       "1420074000000  0.000745  0.044744  0.003375  \n",
       "1420077600000  0.000745  0.044744  0.003375  \n",
       "1420081200000  0.000745  0.044744  0.003375  \n",
       "1420084800000  0.000745  0.044744  0.003375  \n",
       "1420088400000  0.000745  0.044744  0.003375  \n",
       "1420092000000  0.000745  0.044744  0.003375  \n",
       "1420095600000  0.000745  0.044744  0.003375  \n",
       "1420099200000  0.000745  0.044744  0.003375  \n",
       "1420102800000  0.000745  0.044744  0.003375  \n",
       "1420106400000  0.000745  0.044744  0.003375  \n",
       "1420110000000  0.000745  0.044744  0.003375  \n",
       "1420113600000  0.000745  0.044744  0.003375  \n",
       "1420117200000  0.000745  0.044744  0.003375  \n",
       "1420120800000  0.000745  0.044744  0.003375  \n",
       "1420124400000  0.000745  0.044744  0.003375  \n",
       "1420128000000  0.000745  0.044744  0.003375  \n",
       "1420131600000  0.000745  0.044744  0.003375  \n",
       "1420135200000  0.000745  0.044744  0.003375  \n",
       "1420138800000  0.000745  0.044744  0.003375  \n",
       "\n",
       "[20 rows x 33 columns]"
      ]
     },
     "execution_count": 21,
     "metadata": {},
     "output_type": "execute_result"
    }
   ],
   "source": [
    "sub_df[:20]"
   ]
  },
  {
   "cell_type": "markdown",
   "metadata": {
    "ExecuteTime": {
     "end_time": "2017-05-25T13:56:15.340322Z",
     "start_time": "2017-05-25T13:56:15.312971Z"
    },
    "collapsed": true
   },
   "source": [
    "## Building simple Neural Network"
   ]
  },
  {
   "cell_type": "code",
   "execution_count": 22,
   "metadata": {
    "ExecuteTime": {
     "end_time": "2017-05-27T11:18:55.499848Z",
     "start_time": "2017-05-27T11:18:54.361427Z"
    }
   },
   "outputs": [
    {
     "name": "stderr",
     "output_type": "stream",
     "text": [
      "Using TensorFlow backend.\n"
     ]
    }
   ],
   "source": [
    "import keras\n",
    "from keras.layers import *\n",
    "from keras.models import *\n",
    "from keras.optimizers import *\n",
    "from keras.metrics import *\n",
    "import keras.backend as K"
   ]
  },
  {
   "cell_type": "code",
   "execution_count": 23,
   "metadata": {
    "ExecuteTime": {
     "end_time": "2017-05-27T11:18:57.349021Z",
     "start_time": "2017-05-27T11:18:57.317039Z"
    }
   },
   "outputs": [
    {
     "name": "stdout",
     "output_type": "stream",
     "text": [
      "num_features    =  26\n",
      "num_power_lines =  33\n"
     ]
    }
   ],
   "source": [
    "num_features = X_train.shape[1]\n",
    "num_power_lines = y_train.shape[1]\n",
    "print(\"num_features    = \", num_features)\n",
    "print(\"num_power_lines = \", num_power_lines)"
   ]
  },
  {
   "cell_type": "code",
   "execution_count": 24,
   "metadata": {
    "ExecuteTime": {
     "end_time": "2017-05-27T11:18:59.170104Z",
     "start_time": "2017-05-27T11:18:59.150978Z"
    },
    "collapsed": true
   },
   "outputs": [],
   "source": [
    "# Custom loss, to be used by Keras\n",
    "def root_mean_squared_error(y_true, y_pred):\n",
    "    return K.sqrt(K.mean(K.square(y_pred - y_true), axis=-1))"
   ]
  },
  {
   "cell_type": "code",
   "execution_count": 25,
   "metadata": {
    "ExecuteTime": {
     "end_time": "2017-05-27T11:19:01.155123Z",
     "start_time": "2017-05-27T11:19:00.971973Z"
    }
   },
   "outputs": [
    {
     "name": "stdout",
     "output_type": "stream",
     "text": [
      "_________________________________________________________________\n",
      "Layer (type)                 Output Shape              Param #   \n",
      "=================================================================\n",
      "input_1 (InputLayer)         (None, 26)                0         \n",
      "_________________________________________________________________\n",
      "dense_1 (Dense)              (None, 128)               3456      \n",
      "_________________________________________________________________\n",
      "dropout_1 (Dropout)          (None, 128)               0         \n",
      "_________________________________________________________________\n",
      "dense_2 (Dense)              (None, 64)                8256      \n",
      "_________________________________________________________________\n",
      "dropout_2 (Dropout)          (None, 64)                0         \n",
      "_________________________________________________________________\n",
      "dense_3 (Dense)              (None, 33)                2145      \n",
      "=================================================================\n",
      "Total params: 13,857\n",
      "Trainable params: 13,857\n",
      "Non-trainable params: 0\n",
      "_________________________________________________________________\n"
     ]
    }
   ],
   "source": [
    "class SimpleNeuralNetwork(BaseModel):\n",
    "    def __init__(self, input_shape, output_shape=33, layers=[]):        \n",
    "        BaseModel.__init__(self)\n",
    "        \n",
    "        self.layers = layers\n",
    "        self.model = None\n",
    "        self.input_shape = input_shape\n",
    "        self.output_shape = output_shape\n",
    "        \n",
    "        input_data = Input(shape=[input_shape])\n",
    "        x = input_data\n",
    "        for l in self.layers:\n",
    "            x = Dense(l, activation='relu')(x)\n",
    "            x = Dropout(rate=0.3)(x)\n",
    "            \n",
    "        x = Dense(output_shape, activation='linear')(x)\n",
    "        self.model = Model(input_data, x)\n",
    "        self.loss = root_mean_squared_error\n",
    "          \n",
    "    def fit(self, x, y, batch_size=64, lr_scheme=[0.01, 0.001], epochs_scheme=[1, 1]):\n",
    "        # run over differnt lr and epochs\n",
    "        for lr, epochs in zip(lr_scheme, epochs_scheme):\n",
    "            print(\"Running {} epochs with learning rate {}\".format(epochs, lr))\n",
    "            self.model.compile(optimizer=Adam(lr=lr), loss=self.loss)\n",
    "            self.model.fit(x=x, y=y, batch_size=batch_size, epochs=epochs)\n",
    "    \n",
    "    def predict(self, x):\n",
    "        batch_size=64\n",
    "        return self.model.predict(x, batch_size=batch_size)\n",
    "\n",
    "            \n",
    "nn_model = SimpleNeuralNetwork(input_shape=num_features, output_shape=num_power_lines, layers=[128, 64])\n",
    "nn_model.model.summary()"
   ]
  },
  {
   "cell_type": "code",
   "execution_count": 26,
   "metadata": {
    "ExecuteTime": {
     "end_time": "2017-05-27T11:19:03.124107Z",
     "start_time": "2017-05-27T11:19:03.095710Z"
    },
    "collapsed": true
   },
   "outputs": [],
   "source": [
    "X_norm_train = normalize_features(X_train, method='uniform_symmetric')\n",
    "X_norm_valid = normalize_features(X_valid, method='uniform_symmetric')"
   ]
  },
  {
   "cell_type": "code",
   "execution_count": 27,
   "metadata": {
    "ExecuteTime": {
     "end_time": "2017-05-27T11:19:15.800345Z",
     "start_time": "2017-05-27T11:19:05.092806Z"
    }
   },
   "outputs": [
    {
     "name": "stdout",
     "output_type": "stream",
     "text": [
      "Running 2 epochs with learning rate 0.01\n",
      "Epoch 1/2\n",
      "37928/37928 [==============================] - 2s - loss: 0.0977     \n",
      "Epoch 2/2\n",
      "37928/37928 [==============================] - 1s - loss: 0.0879     \n",
      "Running 2 epochs with learning rate 0.001\n",
      "Epoch 1/2\n",
      "37928/37928 [==============================] - 1s - loss: 0.0857     \n",
      "Epoch 2/2\n",
      "37928/37928 [==============================] - 1s - loss: 0.0852     \n",
      "Running 1 epochs with learning rate 0.0001\n",
      "Epoch 1/1\n",
      "37928/37928 [==============================] - 1s - loss: 0.0847     \n"
     ]
    }
   ],
   "source": [
    "nn_model.fit(x=X_norm_train, y=y_train.values, epochs_scheme=[2, 2, 1], lr_scheme=[0.01, 0.001, 0.0001])\n",
    "all_models['nn_model'] = nn_model"
   ]
  },
  {
   "cell_type": "code",
   "execution_count": 28,
   "metadata": {
    "ExecuteTime": {
     "end_time": "2017-05-27T11:19:18.386399Z",
     "start_time": "2017-05-27T11:19:17.804067Z"
    }
   },
   "outputs": [
    {
     "name": "stdout",
     "output_type": "stream",
     "text": [
      "SimpleNeuralNetwork: simple neural network\n",
      "RMSE train =  0.0892966471113\n",
      "RMSE valid =  0.114472863855\n"
     ]
    }
   ],
   "source": [
    "nn_model.evaluate_rmse(train_dataset=(X_norm_train, y_train.values), \n",
    "                         valid_dataset=(X_norm_valid, y_valid.values), \n",
    "                         info=\"simple neural network\")"
   ]
  },
  {
   "cell_type": "code",
   "execution_count": 29,
   "metadata": {
    "ExecuteTime": {
     "end_time": "2017-05-27T11:19:20.364761Z",
     "start_time": "2017-05-27T11:19:20.345909Z"
    },
    "collapsed": true
   },
   "outputs": [],
   "source": [
    "all_models['nn_model'] = nn_model"
   ]
  },
  {
   "cell_type": "code",
   "execution_count": 30,
   "metadata": {
    "ExecuteTime": {
     "end_time": "2017-05-27T11:19:22.277214Z",
     "start_time": "2017-05-27T11:19:22.243565Z"
    }
   },
   "outputs": [
    {
     "data": {
      "text/html": [
       "<div>\n",
       "<style>\n",
       "    .dataframe thead tr:only-child th {\n",
       "        text-align: right;\n",
       "    }\n",
       "\n",
       "    .dataframe thead th {\n",
       "        text-align: left;\n",
       "    }\n",
       "\n",
       "    .dataframe tbody tr th {\n",
       "        vertical-align: top;\n",
       "    }\n",
       "</style>\n",
       "<table border=\"1\" class=\"dataframe\">\n",
       "  <thead>\n",
       "    <tr style=\"text-align: right;\">\n",
       "      <th></th>\n",
       "      <th>NPWD2451</th>\n",
       "      <th>NPWD2532</th>\n",
       "      <th>NPWD2551</th>\n",
       "      <th>NPWD2561</th>\n",
       "      <th>NPWD2851</th>\n",
       "      <th>NPWD2881</th>\n",
       "      <th>train_rmse</th>\n",
       "      <th>valid_rmse</th>\n",
       "      <th>info</th>\n",
       "    </tr>\n",
       "  </thead>\n",
       "  <tbody>\n",
       "    <tr>\n",
       "      <th>SimpleNeuralNetwork</th>\n",
       "      <td>0.309247</td>\n",
       "      <td>0.198566</td>\n",
       "      <td>0.449271</td>\n",
       "      <td>0.111626</td>\n",
       "      <td>0.197343</td>\n",
       "      <td>0.116903</td>\n",
       "      <td>0.089297</td>\n",
       "      <td>0.114473</td>\n",
       "      <td>simple neural network</td>\n",
       "    </tr>\n",
       "    <tr>\n",
       "      <th>BaseModel</th>\n",
       "      <td>0.401223</td>\n",
       "      <td>0.268071</td>\n",
       "      <td>0.628200</td>\n",
       "      <td>0.121259</td>\n",
       "      <td>0.203353</td>\n",
       "      <td>0.119656</td>\n",
       "      <td>0.123222</td>\n",
       "      <td>0.149133</td>\n",
       "      <td>median model</td>\n",
       "    </tr>\n",
       "    <tr>\n",
       "      <th>BaseModel</th>\n",
       "      <td>0.359447</td>\n",
       "      <td>0.251891</td>\n",
       "      <td>0.500584</td>\n",
       "      <td>0.113754</td>\n",
       "      <td>0.215772</td>\n",
       "      <td>0.117018</td>\n",
       "      <td>0.112497</td>\n",
       "      <td>0.129157</td>\n",
       "      <td>mean model</td>\n",
       "    </tr>\n",
       "  </tbody>\n",
       "</table>\n",
       "</div>"
      ],
      "text/plain": [
       "                     NPWD2451  NPWD2532  NPWD2551  NPWD2561  NPWD2851  \\\n",
       "SimpleNeuralNetwork  0.309247  0.198566  0.449271  0.111626  0.197343   \n",
       "BaseModel            0.401223  0.268071  0.628200  0.121259  0.203353   \n",
       "BaseModel            0.359447  0.251891  0.500584  0.113754  0.215772   \n",
       "\n",
       "                     NPWD2881  train_rmse  valid_rmse                   info  \n",
       "SimpleNeuralNetwork  0.116903    0.089297    0.114473  simple neural network  \n",
       "BaseModel            0.119656    0.123222    0.149133           median model  \n",
       "BaseModel            0.117018    0.112497    0.129157             mean model  "
      ]
     },
     "execution_count": 30,
     "metadata": {},
     "output_type": "execute_result"
    }
   ],
   "source": [
    "benchmark_models(all_models, y_columns)"
   ]
  },
  {
   "cell_type": "markdown",
   "metadata": {
    "ExecuteTime": {
     "end_time": "2017-05-25T15:11:48.427355Z",
     "start_time": "2017-05-25T15:11:48.041289Z"
    }
   },
   "source": [
    "## Simple Neural classifier"
   ]
  },
  {
   "cell_type": "code",
   "execution_count": 31,
   "metadata": {
    "ExecuteTime": {
     "end_time": "2017-05-27T11:19:25.405650Z",
     "start_time": "2017-05-27T11:19:25.375865Z"
    },
    "collapsed": true
   },
   "outputs": [],
   "source": [
    "from keras.utils import to_categorical\n",
    "\n",
    "# convert power line to quantized values \n",
    "def labels_power_lines(y_data, num_classes=10):\n",
    "    y = normalize_features(y_data, method='uniform')\n",
    "    y_max = y_data.max(0)\n",
    "    y_min = y_data.min(0)\n",
    "    class_indices = np.round(y * (num_classes - 1)).astype(np.int32)\n",
    "\n",
    "    labels = []\n",
    "    for c in class_indices:    \n",
    "        l = to_categorical(c, num_classes=num_classes) \n",
    "        labels.append(l)    \n",
    "\n",
    "    labels = np.array(labels)\n",
    "    return labels, y_min, y_max\n",
    "\n",
    "# restore power line from quantized values\n",
    "def labels_to_power(y_labels, y_min, y_max):\n",
    "    num_classes = float(y_labels.shape[2])\n",
    "    normalized_power = np.argmax(y_labels, 2)/num_classes    \n",
    "    power = normalized_power*(y_max - y_min) + y_min\n",
    "    return power"
   ]
  },
  {
   "cell_type": "code",
   "execution_count": 32,
   "metadata": {
    "ExecuteTime": {
     "end_time": "2017-05-27T11:19:27.609068Z",
     "start_time": "2017-05-27T11:19:27.338800Z"
    }
   },
   "outputs": [
    {
     "name": "stdout",
     "output_type": "stream",
     "text": [
      "Reconstruction RMSE: 0.0645002500351\n"
     ]
    }
   ],
   "source": [
    "# Check reconstruction error\n",
    "num_classes = 5\n",
    "y_lbs_train, y_min, y_max = labels_power_lines(y_train.values, num_classes=num_classes)\n",
    "y_reconstructed = labels_to_power(y_lbs_train, y_min, y_max)\n",
    "print(\"Reconstruction RMSE:\", RMSE(y_reconstructed, y_train))"
   ]
  },
  {
   "cell_type": "code",
   "execution_count": 33,
   "metadata": {
    "ExecuteTime": {
     "end_time": "2017-05-27T11:19:29.743847Z",
     "start_time": "2017-05-27T11:19:29.486790Z"
    }
   },
   "outputs": [
    {
     "name": "stdout",
     "output_type": "stream",
     "text": [
      "_________________________________________________________________\n",
      "Layer (type)                 Output Shape              Param #   \n",
      "=================================================================\n",
      "input_2 (InputLayer)         (None, 26)                0         \n",
      "_________________________________________________________________\n",
      "dense_4 (Dense)              (None, 128)               3456      \n",
      "_________________________________________________________________\n",
      "batch_normalization_1 (Batch (None, 128)               512       \n",
      "_________________________________________________________________\n",
      "dropout_3 (Dropout)          (None, 128)               0         \n",
      "_________________________________________________________________\n",
      "dense_5 (Dense)              (None, 64)                8256      \n",
      "_________________________________________________________________\n",
      "batch_normalization_2 (Batch (None, 64)                256       \n",
      "_________________________________________________________________\n",
      "dropout_4 (Dropout)          (None, 64)                0         \n",
      "_________________________________________________________________\n",
      "dense_6 (Dense)              (None, 165)               10725     \n",
      "_________________________________________________________________\n",
      "reshape_1 (Reshape)          (None, 33, 5)             0         \n",
      "_________________________________________________________________\n",
      "lambda_1 (Lambda)            (None, 33, 5)             0         \n",
      "=================================================================\n",
      "Total params: 23,205\n",
      "Trainable params: 22,821\n",
      "Non-trainable params: 384\n",
      "_________________________________________________________________\n"
     ]
    }
   ],
   "source": [
    "class SimpleClassifier(SimpleNeuralNetwork):\n",
    "    def __init__(self, y_min, y_max, input_shape, output_shape=33, num_classes=10, layers=[]):\n",
    "        BaseModel.__init__(self)\n",
    "        \n",
    "        self.layers = layers\n",
    "        self.model = None\n",
    "        self.input_shape = input_shape\n",
    "        self.output_shape = output_shape\n",
    "        self.num_classes = num_classes\n",
    "        self.y_min = y_min\n",
    "        self.y_max = y_max\n",
    "        \n",
    "        # Model definition\n",
    "        input_data = Input(shape=[input_shape])\n",
    "        x = input_data\n",
    "        for l in self.layers:\n",
    "            x = Dense(l, activation='relu')(x)\n",
    "            x = BatchNormalization()(x)\n",
    "            x = Dropout(rate=0.3)(x)\n",
    "            \n",
    "        x = Dense(output_shape * num_classes, activation='linear')(x)\n",
    "        x = Reshape(target_shape=[output_shape, num_classes])(x)\n",
    "        x = Lambda(lambda x: tf.nn.softmax(x, dim=-1))(x)\n",
    "        self.model = Model(input_data, x)\n",
    "        self.loss = \"categorical_crossentropy\"\n",
    "        \n",
    "    def predict(self, x):\n",
    "        batch_size=64        \n",
    "        y_pred = self.model.predict(x, batch_size=batch_size)\n",
    "        y_pred = labels_to_power(y_pred, self.y_min, self.y_max)\n",
    "        return y_pred\n",
    "        \n",
    "          \n",
    "cls_model = SimpleClassifier( \n",
    "    y_min, y_max,\n",
    "    input_shape=num_features, \n",
    "    output_shape=num_power_lines, \n",
    "    num_classes=num_classes, \n",
    "    layers=[128, 64])\n",
    "\n",
    "cls_model.model.summary()"
   ]
  },
  {
   "cell_type": "code",
   "execution_count": 34,
   "metadata": {
    "ExecuteTime": {
     "end_time": "2017-05-27T11:19:54.851667Z",
     "start_time": "2017-05-27T11:19:31.678435Z"
    }
   },
   "outputs": [
    {
     "name": "stdout",
     "output_type": "stream",
     "text": [
      "Running 2 epochs with learning rate 0.01\n",
      "Epoch 1/2\n",
      "37928/37928 [==============================] - 3s - loss: 0.4956     \n",
      "Epoch 2/2\n",
      "37928/37928 [==============================] - 2s - loss: 0.4455     \n",
      "Running 2 epochs with learning rate 0.001\n",
      "Epoch 1/2\n",
      "37928/37928 [==============================] - 3s - loss: 0.4364     \n",
      "Epoch 2/2\n",
      "37928/37928 [==============================] - 2s - loss: 0.4338     \n",
      "Running 2 epochs with learning rate 0.0001\n",
      "Epoch 1/2\n",
      "37928/37928 [==============================] - 3s - loss: 0.4325     \n",
      "Epoch 2/2\n",
      "37928/37928 [==============================] - 2s - loss: 0.4322     \n"
     ]
    }
   ],
   "source": [
    "cls_model.fit(x=X_norm_train, y=y_lbs_train, epochs_scheme=[2, 2, 2], lr_scheme=[0.01, 0.001, 0.0001])"
   ]
  },
  {
   "cell_type": "code",
   "execution_count": 35,
   "metadata": {
    "ExecuteTime": {
     "end_time": "2017-05-27T11:19:57.941898Z",
     "start_time": "2017-05-27T11:19:56.837888Z"
    }
   },
   "outputs": [
    {
     "name": "stdout",
     "output_type": "stream",
     "text": [
      "SimpleClassifier: simple neural classifier with 5 classes\n",
      "RMSE train =  0.110226065909\n",
      "RMSE valid =  0.13729230465\n"
     ]
    }
   ],
   "source": [
    "cls_model.evaluate_rmse(train_dataset=(X_norm_train, y_train.values), \n",
    "                         valid_dataset=(X_norm_valid, y_valid.values), \n",
    "                         info=\"simple neural classifier with {} classes\".format(num_classes))"
   ]
  },
  {
   "cell_type": "code",
   "execution_count": 36,
   "metadata": {
    "ExecuteTime": {
     "end_time": "2017-05-27T11:20:01.331917Z",
     "start_time": "2017-05-27T11:20:01.308472Z"
    },
    "collapsed": true
   },
   "outputs": [],
   "source": [
    "all_models['cls_model'] = cls_model"
   ]
  },
  {
   "cell_type": "code",
   "execution_count": 37,
   "metadata": {
    "ExecuteTime": {
     "end_time": "2017-05-27T11:20:03.406266Z",
     "start_time": "2017-05-27T11:20:03.370790Z"
    }
   },
   "outputs": [
    {
     "data": {
      "text/html": [
       "<div>\n",
       "<style>\n",
       "    .dataframe thead tr:only-child th {\n",
       "        text-align: right;\n",
       "    }\n",
       "\n",
       "    .dataframe thead th {\n",
       "        text-align: left;\n",
       "    }\n",
       "\n",
       "    .dataframe tbody tr th {\n",
       "        vertical-align: top;\n",
       "    }\n",
       "</style>\n",
       "<table border=\"1\" class=\"dataframe\">\n",
       "  <thead>\n",
       "    <tr style=\"text-align: right;\">\n",
       "      <th></th>\n",
       "      <th>NPWD2451</th>\n",
       "      <th>NPWD2532</th>\n",
       "      <th>NPWD2551</th>\n",
       "      <th>NPWD2561</th>\n",
       "      <th>NPWD2851</th>\n",
       "      <th>NPWD2881</th>\n",
       "      <th>train_rmse</th>\n",
       "      <th>valid_rmse</th>\n",
       "      <th>info</th>\n",
       "    </tr>\n",
       "  </thead>\n",
       "  <tbody>\n",
       "    <tr>\n",
       "      <th>SimpleNeuralNetwork</th>\n",
       "      <td>0.309247</td>\n",
       "      <td>0.198566</td>\n",
       "      <td>0.449271</td>\n",
       "      <td>0.111626</td>\n",
       "      <td>0.197343</td>\n",
       "      <td>0.116903</td>\n",
       "      <td>0.089297</td>\n",
       "      <td>0.114473</td>\n",
       "      <td>simple neural network</td>\n",
       "    </tr>\n",
       "    <tr>\n",
       "      <th>SimpleClassifier</th>\n",
       "      <td>0.374306</td>\n",
       "      <td>0.264224</td>\n",
       "      <td>0.515396</td>\n",
       "      <td>0.115591</td>\n",
       "      <td>0.262201</td>\n",
       "      <td>0.119799</td>\n",
       "      <td>0.110226</td>\n",
       "      <td>0.137292</td>\n",
       "      <td>simple neural classifier with 5 classes</td>\n",
       "    </tr>\n",
       "    <tr>\n",
       "      <th>BaseModel</th>\n",
       "      <td>0.401223</td>\n",
       "      <td>0.268071</td>\n",
       "      <td>0.628200</td>\n",
       "      <td>0.121259</td>\n",
       "      <td>0.203353</td>\n",
       "      <td>0.119656</td>\n",
       "      <td>0.123222</td>\n",
       "      <td>0.149133</td>\n",
       "      <td>median model</td>\n",
       "    </tr>\n",
       "    <tr>\n",
       "      <th>BaseModel</th>\n",
       "      <td>0.359447</td>\n",
       "      <td>0.251891</td>\n",
       "      <td>0.500584</td>\n",
       "      <td>0.113754</td>\n",
       "      <td>0.215772</td>\n",
       "      <td>0.117018</td>\n",
       "      <td>0.112497</td>\n",
       "      <td>0.129157</td>\n",
       "      <td>mean model</td>\n",
       "    </tr>\n",
       "  </tbody>\n",
       "</table>\n",
       "</div>"
      ],
      "text/plain": [
       "                     NPWD2451  NPWD2532  NPWD2551  NPWD2561  NPWD2851  \\\n",
       "SimpleNeuralNetwork  0.309247  0.198566  0.449271  0.111626  0.197343   \n",
       "SimpleClassifier     0.374306  0.264224  0.515396  0.115591  0.262201   \n",
       "BaseModel            0.401223  0.268071  0.628200  0.121259  0.203353   \n",
       "BaseModel            0.359447  0.251891  0.500584  0.113754  0.215772   \n",
       "\n",
       "                     NPWD2881  train_rmse  valid_rmse  \\\n",
       "SimpleNeuralNetwork  0.116903    0.089297    0.114473   \n",
       "SimpleClassifier     0.119799    0.110226    0.137292   \n",
       "BaseModel            0.119656    0.123222    0.149133   \n",
       "BaseModel            0.117018    0.112497    0.129157   \n",
       "\n",
       "                                                        info  \n",
       "SimpleNeuralNetwork                    simple neural network  \n",
       "SimpleClassifier     simple neural classifier with 5 classes  \n",
       "BaseModel                                       median model  \n",
       "BaseModel                                         mean model  "
      ]
     },
     "execution_count": 37,
     "metadata": {},
     "output_type": "execute_result"
    }
   ],
   "source": [
    "benchmark_models(all_models, y_columns)"
   ]
  },
  {
   "cell_type": "markdown",
   "metadata": {
    "ExecuteTime": {
     "end_time": "2017-05-25T18:06:47.431189Z",
     "start_time": "2017-05-25T18:06:47.392793Z"
    }
   },
   "source": [
    "### The motivation "
   ]
  },
  {
   "cell_type": "markdown",
   "metadata": {},
   "source": [
    ":( motivation was, quantization of certain power lines..."
   ]
  },
  {
   "cell_type": "code",
   "execution_count": 38,
   "metadata": {
    "ExecuteTime": {
     "end_time": "2017-05-27T11:20:08.698880Z",
     "start_time": "2017-05-27T11:20:08.524225Z"
    }
   },
   "outputs": [
    {
     "data": {
      "text/plain": [
       "(array([ 35333.,    387.,    445.,    298.,   1465.]),\n",
       " array([ 0.00613403,  0.14958711,  0.29304019,  0.43649328,  0.57994636,\n",
       "         0.72339944]),\n",
       " <a list of 5 Patch objects>)"
      ]
     },
     "execution_count": 38,
     "metadata": {},
     "output_type": "execute_result"
    },
    {
     "data": {
      "image/png": "[encoded data removed]",
      "text/plain": [
       "<matplotlib.figure.Figure at 0x7f3d613ab450>"
      ]
     },
     "metadata": {},
     "output_type": "display_data"
    }
   ],
   "source": [
    "plt.hist(y_train['NPWD2881'], num_classes)"
   ]
  },
  {
   "cell_type": "code",
   "execution_count": 39,
   "metadata": {
    "ExecuteTime": {
     "end_time": "2017-05-27T11:20:10.858706Z",
     "start_time": "2017-05-27T11:20:10.640235Z"
    }
   },
   "outputs": [
    {
     "data": {
      "text/plain": [
       "<matplotlib.axes._subplots.AxesSubplot at 0x7f3d61540210>"
      ]
     },
     "execution_count": 39,
     "metadata": {},
     "output_type": "execute_result"
    },
    {
     "data": {
      "image/png": "[encoded data removed]",
      "text/plain": [
       "<matplotlib.figure.Figure at 0x7f3d61540cd0>"
      ]
     },
     "metadata": {},
     "output_type": "display_data"
    }
   ],
   "source": [
    "plt.figure(figsize=(20, 2))\n",
    "y_train['NPWD2881'][15000:20000].plot()"
   ]
  },
  {
   "cell_type": "code",
   "execution_count": null,
   "metadata": {
    "ExecuteTime": {
     "end_time": "2017-05-26T08:08:51.220862Z",
     "start_time": "2017-05-26T08:08:51.197657Z"
    },
    "collapsed": true
   },
   "outputs": [],
   "source": []
  },
  {
   "cell_type": "code",
   "execution_count": 40,
   "metadata": {
    "ExecuteTime": {
     "end_time": "2017-05-27T11:20:13.348566Z",
     "start_time": "2017-05-27T11:20:12.849945Z"
    },
    "collapsed": true
   },
   "outputs": [],
   "source": [
    "y_pred_cls = cls_model.predict(X_norm_valid)\n",
    "y_pred_reg = nn_model.predict(X_norm_valid)\n",
    "y_pred_mean = mean_model.predict(X_norm_valid)"
   ]
  },
  {
   "cell_type": "code",
   "execution_count": 41,
   "metadata": {
    "ExecuteTime": {
     "end_time": "2017-05-27T11:20:15.538251Z",
     "start_time": "2017-05-27T11:20:15.243027Z"
    }
   },
   "outputs": [
    {
     "data": {
      "text/plain": [
       "<matplotlib.legend.Legend at 0x7f3d61498f90>"
      ]
     },
     "execution_count": 41,
     "metadata": {},
     "output_type": "execute_result"
    },
    {
     "data": {
      "image/png": "[encoded data removed]",
      "text/plain": [
       "<matplotlib.figure.Figure at 0x7f3d61423ed0>"
      ]
     },
     "metadata": {},
     "output_type": "display_data"
    }
   ],
   "source": [
    "idx = np.where(y_valid.columns == 'NPWD2551')[0][0]\n",
    "\n",
    "a, b = 480, 800\n",
    "\n",
    "plt.figure(figsize=(20, 5))\n",
    "plt.plot(y_valid.values[a:b, idx],'k--', label='true')\n",
    "plt.plot(y_pred_cls[a:b, idx], label='classifier')\n",
    "plt.plot(y_pred_reg[a:b, idx], label='regression')\n",
    "plt.plot(y_pred_mean[a:b, idx], label='mean')\n",
    "plt.legend()"
   ]
  },
  {
   "cell_type": "markdown",
   "metadata": {
    "ExecuteTime": {
     "end_time": "2017-05-25T16:59:55.968832Z",
     "start_time": "2017-05-25T16:59:55.837831Z"
    }
   },
   "source": [
    "Probably features are too simple for that line"
   ]
  },
  {
   "cell_type": "markdown",
   "metadata": {
    "collapsed": true
   },
   "source": [
    "## Time window simple model"
   ]
  },
  {
   "cell_type": "code",
   "execution_count": null,
   "metadata": {
    "ExecuteTime": {
     "end_time": "2017-05-25T18:32:18.744432Z",
     "start_time": "2017-05-25T18:32:18.700567Z"
    },
    "collapsed": true
   },
   "outputs": [],
   "source": []
  },
  {
   "cell_type": "code",
   "execution_count": 42,
   "metadata": {
    "ExecuteTime": {
     "end_time": "2017-05-27T11:20:22.902651Z",
     "start_time": "2017-05-27T11:20:22.748092Z"
    }
   },
   "outputs": [
    {
     "name": "stdout",
     "output_type": "stream",
     "text": [
      "(37918, 10, 26) (37918, 33)\n",
      "(37918, 260) (37918, 33)\n"
     ]
    }
   ],
   "source": [
    "def gen_windowed_dataset(X_data, y_data, window=5):\n",
    "    it = 0\n",
    "    data = []\n",
    "    y = []\n",
    "    while True:         \n",
    "        if it + window >= X_data.shape[0]:\n",
    "            break\n",
    "\n",
    "        a = it\n",
    "        b = it + window\n",
    "        data.append(X_data[a:b])\n",
    "        y.append(y_data[b])\n",
    "        it += 1\n",
    "        \n",
    "    return np.array(data), np.array(y)\n",
    "        \n",
    "window_size = 10\n",
    "X_win_train, y_win_train = gen_windowed_dataset(X_norm_train, y_train.values, window=window_size)\n",
    "X_win_valid, y_win_valid = gen_windowed_dataset(X_norm_valid, y_valid.values, window=window_size)\n",
    "\n",
    "print(X_win_train.shape, y_win_train.shape)\n",
    "\n",
    "X_win_train = X_win_train.reshape([X_win_train.shape[0], -1])\n",
    "X_win_valid = X_win_valid.reshape([X_win_valid.shape[0], -1])\n",
    "\n",
    "print(X_win_train.shape, y_win_train.shape)"
   ]
  },
  {
   "cell_type": "code",
   "execution_count": 43,
   "metadata": {
    "ExecuteTime": {
     "end_time": "2017-05-27T11:20:25.086228Z",
     "start_time": "2017-05-27T11:20:24.984848Z"
    }
   },
   "outputs": [
    {
     "name": "stdout",
     "output_type": "stream",
     "text": [
      "_________________________________________________________________\n",
      "Layer (type)                 Output Shape              Param #   \n",
      "=================================================================\n",
      "input_3 (InputLayer)         (None, 260)               0         \n",
      "_________________________________________________________________\n",
      "dense_7 (Dense)              (None, 100)               26100     \n",
      "_________________________________________________________________\n",
      "dropout_5 (Dropout)          (None, 100)               0         \n",
      "_________________________________________________________________\n",
      "dense_8 (Dense)              (None, 50)                5050      \n",
      "_________________________________________________________________\n",
      "dropout_6 (Dropout)          (None, 50)                0         \n",
      "_________________________________________________________________\n",
      "dense_9 (Dense)              (None, 33)                1683      \n",
      "=================================================================\n",
      "Total params: 32,833\n",
      "Trainable params: 32,833\n",
      "Non-trainable params: 0\n",
      "_________________________________________________________________\n"
     ]
    }
   ],
   "source": [
    "num_win_features = X_win_train.shape[1] # num_features * window_size\n",
    "nn_win_model = SimpleNeuralNetwork(input_shape=num_win_features, output_shape=num_power_lines, layers=[100, 50])\n",
    "nn_win_model.model.summary()"
   ]
  },
  {
   "cell_type": "code",
   "execution_count": 44,
   "metadata": {
    "ExecuteTime": {
     "end_time": "2017-05-27T11:20:37.676546Z",
     "start_time": "2017-05-27T11:20:27.028142Z"
    }
   },
   "outputs": [
    {
     "name": "stdout",
     "output_type": "stream",
     "text": [
      "Running 2 epochs with learning rate 0.01\n",
      "Epoch 1/2\n",
      "37918/37918 [==============================] - 1s - loss: 0.1044     \n",
      "Epoch 2/2\n",
      "37918/37918 [==============================] - 1s - loss: 0.0916     \n",
      "Running 2 epochs with learning rate 0.001\n",
      "Epoch 1/2\n",
      "37918/37918 [==============================] - 2s - loss: 0.0896     \n",
      "Epoch 2/2\n",
      "37918/37918 [==============================] - 1s - loss: 0.0894     \n",
      "Running 1 epochs with learning rate 0.0001\n",
      "Epoch 1/1\n",
      "37918/37918 [==============================] - 2s - loss: 0.0891     \n"
     ]
    }
   ],
   "source": [
    "nn_win_model.fit(x=X_win_train, y=y_win_train, epochs_scheme=[2, 2, 1], lr_scheme=[0.01, 0.001, 0.0001])"
   ]
  },
  {
   "cell_type": "code",
   "execution_count": 45,
   "metadata": {
    "ExecuteTime": {
     "end_time": "2017-05-27T11:20:40.542202Z",
     "start_time": "2017-05-27T11:20:39.589152Z"
    }
   },
   "outputs": [
    {
     "name": "stdout",
     "output_type": "stream",
     "text": [
      "SimpleNeuralNetwork: windowed neural network\n",
      "RMSE train =  0.0948864996078\n",
      "RMSE valid =  0.114150187692\n"
     ]
    }
   ],
   "source": [
    "nn_win_model.evaluate_rmse(train_dataset=(X_win_train, y_win_train), \n",
    "                         valid_dataset=(X_win_valid, y_win_valid), \n",
    "                         info=\"windowed neural network\")\n",
    "\n",
    "all_models['nn_win_model'] = nn_win_model"
   ]
  },
  {
   "cell_type": "markdown",
   "metadata": {},
   "source": [
    "### More powerfull model = MORE LAYERS!!!!"
   ]
  },
  {
   "cell_type": "code",
   "execution_count": 46,
   "metadata": {
    "ExecuteTime": {
     "end_time": "2017-05-27T11:20:42.619117Z",
     "start_time": "2017-05-27T11:20:42.495290Z"
    }
   },
   "outputs": [
    {
     "name": "stdout",
     "output_type": "stream",
     "text": [
      "_________________________________________________________________\n",
      "Layer (type)                 Output Shape              Param #   \n",
      "=================================================================\n",
      "input_4 (InputLayer)         (None, 260)               0         \n",
      "_________________________________________________________________\n",
      "dense_10 (Dense)             (None, 256)               66816     \n",
      "_________________________________________________________________\n",
      "dropout_7 (Dropout)          (None, 256)               0         \n",
      "_________________________________________________________________\n",
      "dense_11 (Dense)             (None, 128)               32896     \n",
      "_________________________________________________________________\n",
      "dropout_8 (Dropout)          (None, 128)               0         \n",
      "_________________________________________________________________\n",
      "dense_12 (Dense)             (None, 64)                8256      \n",
      "_________________________________________________________________\n",
      "dropout_9 (Dropout)          (None, 64)                0         \n",
      "_________________________________________________________________\n",
      "dense_13 (Dense)             (None, 33)                2145      \n",
      "=================================================================\n",
      "Total params: 110,113\n",
      "Trainable params: 110,113\n",
      "Non-trainable params: 0\n",
      "_________________________________________________________________\n"
     ]
    }
   ],
   "source": [
    "better_nn_win_model = SimpleNeuralNetwork(input_shape=num_win_features, output_shape=num_power_lines, layers=[256, 128, 64])\n",
    "better_nn_win_model.model.summary()"
   ]
  },
  {
   "cell_type": "code",
   "execution_count": 47,
   "metadata": {
    "ExecuteTime": {
     "end_time": "2017-05-27T11:21:00.335995Z",
     "start_time": "2017-05-27T11:20:44.547495Z"
    }
   },
   "outputs": [
    {
     "name": "stdout",
     "output_type": "stream",
     "text": [
      "Running 2 epochs with learning rate 0.01\n",
      "Epoch 1/2\n",
      "37918/37918 [==============================] - 2s - loss: 0.1107     \n",
      "Epoch 2/2\n",
      "37918/37918 [==============================] - 2s - loss: 0.1006     \n",
      "Running 2 epochs with learning rate 0.001\n",
      "Epoch 1/2\n",
      "37918/37918 [==============================] - 2s - loss: 0.0973     \n",
      "Epoch 2/2\n",
      "37918/37918 [==============================] - 2s - loss: 0.0945     \n",
      "Running 2 epochs with learning rate 0.0001\n",
      "Epoch 1/2\n",
      "37918/37918 [==============================] - 2s - loss: 0.0925     \n",
      "Epoch 2/2\n",
      "37918/37918 [==============================] - 2s - loss: 0.0919     \n"
     ]
    }
   ],
   "source": [
    "better_nn_win_model.fit(x=X_win_train, y=y_win_train, epochs_scheme=[2, 2, 2], lr_scheme=[0.01, 0.001, 0.0001])"
   ]
  },
  {
   "cell_type": "code",
   "execution_count": 48,
   "metadata": {
    "ExecuteTime": {
     "end_time": "2017-05-27T11:21:03.774696Z",
     "start_time": "2017-05-27T11:21:02.818898Z"
    }
   },
   "outputs": [
    {
     "name": "stdout",
     "output_type": "stream",
     "text": [
      "SimpleNeuralNetwork: windowed neural network with [256, 128, 64] layers\n",
      "RMSE train =  0.0991775349479\n",
      "RMSE valid =  0.116751204261\n"
     ]
    }
   ],
   "source": [
    "better_nn_win_model.evaluate_rmse(train_dataset=(X_win_train, y_win_train), \n",
    "                         valid_dataset=(X_win_valid, y_win_valid), \n",
    "                         info=\"windowed neural network with [256, 128, 64] layers\")\n",
    "\n",
    "all_models['better_nn_win_model'] = better_nn_win_model"
   ]
  },
  {
   "cell_type": "code",
   "execution_count": 49,
   "metadata": {
    "ExecuteTime": {
     "end_time": "2017-05-27T11:21:05.799556Z",
     "start_time": "2017-05-27T11:21:05.757861Z"
    }
   },
   "outputs": [
    {
     "data": {
      "text/html": [
       "<div>\n",
       "<style>\n",
       "    .dataframe thead tr:only-child th {\n",
       "        text-align: right;\n",
       "    }\n",
       "\n",
       "    .dataframe thead th {\n",
       "        text-align: left;\n",
       "    }\n",
       "\n",
       "    .dataframe tbody tr th {\n",
       "        vertical-align: top;\n",
       "    }\n",
       "</style>\n",
       "<table border=\"1\" class=\"dataframe\">\n",
       "  <thead>\n",
       "    <tr style=\"text-align: right;\">\n",
       "      <th></th>\n",
       "      <th>NPWD2451</th>\n",
       "      <th>NPWD2532</th>\n",
       "      <th>NPWD2551</th>\n",
       "      <th>NPWD2561</th>\n",
       "      <th>NPWD2851</th>\n",
       "      <th>NPWD2881</th>\n",
       "      <th>train_rmse</th>\n",
       "      <th>valid_rmse</th>\n",
       "      <th>info</th>\n",
       "    </tr>\n",
       "  </thead>\n",
       "  <tbody>\n",
       "    <tr>\n",
       "      <th>SimpleNeuralNetwork</th>\n",
       "      <td>0.299154</td>\n",
       "      <td>0.250869</td>\n",
       "      <td>0.452485</td>\n",
       "      <td>0.113171</td>\n",
       "      <td>0.191385</td>\n",
       "      <td>0.116759</td>\n",
       "      <td>0.099178</td>\n",
       "      <td>0.116751</td>\n",
       "      <td>windowed neural network with [256, 128, 64] la...</td>\n",
       "    </tr>\n",
       "    <tr>\n",
       "      <th>SimpleNeuralNetwork</th>\n",
       "      <td>0.281795</td>\n",
       "      <td>0.230331</td>\n",
       "      <td>0.453507</td>\n",
       "      <td>0.112209</td>\n",
       "      <td>0.187741</td>\n",
       "      <td>0.116725</td>\n",
       "      <td>0.094886</td>\n",
       "      <td>0.114150</td>\n",
       "      <td>windowed neural network</td>\n",
       "    </tr>\n",
       "    <tr>\n",
       "      <th>BaseModel</th>\n",
       "      <td>0.401223</td>\n",
       "      <td>0.268071</td>\n",
       "      <td>0.628200</td>\n",
       "      <td>0.121259</td>\n",
       "      <td>0.203353</td>\n",
       "      <td>0.119656</td>\n",
       "      <td>0.123222</td>\n",
       "      <td>0.149133</td>\n",
       "      <td>median model</td>\n",
       "    </tr>\n",
       "    <tr>\n",
       "      <th>SimpleNeuralNetwork</th>\n",
       "      <td>0.309247</td>\n",
       "      <td>0.198566</td>\n",
       "      <td>0.449271</td>\n",
       "      <td>0.111626</td>\n",
       "      <td>0.197343</td>\n",
       "      <td>0.116903</td>\n",
       "      <td>0.089297</td>\n",
       "      <td>0.114473</td>\n",
       "      <td>simple neural network</td>\n",
       "    </tr>\n",
       "    <tr>\n",
       "      <th>BaseModel</th>\n",
       "      <td>0.359447</td>\n",
       "      <td>0.251891</td>\n",
       "      <td>0.500584</td>\n",
       "      <td>0.113754</td>\n",
       "      <td>0.215772</td>\n",
       "      <td>0.117018</td>\n",
       "      <td>0.112497</td>\n",
       "      <td>0.129157</td>\n",
       "      <td>mean model</td>\n",
       "    </tr>\n",
       "    <tr>\n",
       "      <th>SimpleClassifier</th>\n",
       "      <td>0.374306</td>\n",
       "      <td>0.264224</td>\n",
       "      <td>0.515396</td>\n",
       "      <td>0.115591</td>\n",
       "      <td>0.262201</td>\n",
       "      <td>0.119799</td>\n",
       "      <td>0.110226</td>\n",
       "      <td>0.137292</td>\n",
       "      <td>simple neural classifier with 5 classes</td>\n",
       "    </tr>\n",
       "  </tbody>\n",
       "</table>\n",
       "</div>"
      ],
      "text/plain": [
       "                     NPWD2451  NPWD2532  NPWD2551  NPWD2561  NPWD2851  \\\n",
       "SimpleNeuralNetwork  0.299154  0.250869  0.452485  0.113171  0.191385   \n",
       "SimpleNeuralNetwork  0.281795  0.230331  0.453507  0.112209  0.187741   \n",
       "BaseModel            0.401223  0.268071  0.628200  0.121259  0.203353   \n",
       "SimpleNeuralNetwork  0.309247  0.198566  0.449271  0.111626  0.197343   \n",
       "BaseModel            0.359447  0.251891  0.500584  0.113754  0.215772   \n",
       "SimpleClassifier     0.374306  0.264224  0.515396  0.115591  0.262201   \n",
       "\n",
       "                     NPWD2881  train_rmse  valid_rmse  \\\n",
       "SimpleNeuralNetwork  0.116759    0.099178    0.116751   \n",
       "SimpleNeuralNetwork  0.116725    0.094886    0.114150   \n",
       "BaseModel            0.119656    0.123222    0.149133   \n",
       "SimpleNeuralNetwork  0.116903    0.089297    0.114473   \n",
       "BaseModel            0.117018    0.112497    0.129157   \n",
       "SimpleClassifier     0.119799    0.110226    0.137292   \n",
       "\n",
       "                                                                  info  \n",
       "SimpleNeuralNetwork  windowed neural network with [256, 128, 64] la...  \n",
       "SimpleNeuralNetwork                            windowed neural network  \n",
       "BaseModel                                                 median model  \n",
       "SimpleNeuralNetwork                              simple neural network  \n",
       "BaseModel                                                   mean model  \n",
       "SimpleClassifier               simple neural classifier with 5 classes  "
      ]
     },
     "execution_count": 49,
     "metadata": {},
     "output_type": "execute_result"
    }
   ],
   "source": [
    "benchmark_models(all_models, y_columns)"
   ]
  },
  {
   "cell_type": "markdown",
   "metadata": {},
   "source": [
    "## Simple RNN"
   ]
  },
  {
   "cell_type": "code",
   "execution_count": 50,
   "metadata": {
    "ExecuteTime": {
     "end_time": "2017-05-27T11:21:08.740994Z",
     "start_time": "2017-05-27T11:21:08.537978Z"
    }
   },
   "outputs": [
    {
     "name": "stdout",
     "output_type": "stream",
     "text": [
      "(26, 32) (37896, 26, 32) (37896, 33)\n"
     ]
    }
   ],
   "source": [
    "window_size = 32\n",
    "X_win_train, y_win_train = gen_windowed_dataset(X_norm_train, y_train.values, window=window_size)\n",
    "X_win_valid, y_win_valid = gen_windowed_dataset(X_norm_valid, y_valid.values, window=window_size)\n",
    "\n",
    "X_win_train = np.transpose(X_win_train, [0, 2, 1])\n",
    "X_win_valid = np.transpose(X_win_valid, [0, 2, 1])\n",
    "\n",
    "input_shape = X_win_train.shape[1:]\n",
    "\n",
    "print(input_shape, X_win_train.shape, y_win_train.shape)"
   ]
  },
  {
   "cell_type": "code",
   "execution_count": 51,
   "metadata": {
    "ExecuteTime": {
     "end_time": "2017-05-27T11:21:11.423998Z",
     "start_time": "2017-05-27T11:21:10.692190Z"
    }
   },
   "outputs": [
    {
     "name": "stdout",
     "output_type": "stream",
     "text": [
      "_________________________________________________________________\n",
      "Layer (type)                 Output Shape              Param #   \n",
      "=================================================================\n",
      "input_5 (InputLayer)         (None, 26, 32)            0         \n",
      "_________________________________________________________________\n",
      "lstm_1 (LSTM)                (None, 256)               295936    \n",
      "_________________________________________________________________\n",
      "dropout_10 (Dropout)         (None, 256)               0         \n",
      "_________________________________________________________________\n",
      "dense_14 (Dense)             (None, 128)               32896     \n",
      "_________________________________________________________________\n",
      "dropout_11 (Dropout)         (None, 128)               0         \n",
      "_________________________________________________________________\n",
      "dense_15 (Dense)             (None, 33)                4257      \n",
      "=================================================================\n",
      "Total params: 333,089\n",
      "Trainable params: 333,089\n",
      "Non-trainable params: 0\n",
      "_________________________________________________________________\n"
     ]
    }
   ],
   "source": [
    "class SimpleLSTM(SimpleNeuralNetwork):\n",
    "    def __init__(self, input_shape, output_shape=33):\n",
    "        BaseModel.__init__(self)\n",
    "        \n",
    "        self.input_shape = input_shape\n",
    "        self.output_shape = output_shape\n",
    "\n",
    "        # Model definition\n",
    "        input_data = Input(shape=input_shape)\n",
    "        x = input_data\n",
    "        x = LSTM(256)(x)\n",
    "        x = Dropout(0.4)(x) \n",
    "        x = Dense(128, activation='relu')(x)\n",
    "        x = Dropout(0.4)(x) \n",
    "        x = Dense(output_shape, activation='linear')(x)\n",
    "\n",
    "        self.model = Model(input_data, x)\n",
    "        self.loss = root_mean_squared_error\n",
    "\n",
    "rnn_model = SimpleLSTM(input_shape=input_shape, output_shape=num_power_lines)\n",
    "rnn_model.model.summary()"
   ]
  },
  {
   "cell_type": "code",
   "execution_count": 52,
   "metadata": {
    "ExecuteTime": {
     "end_time": "2017-05-27T11:24:16.169998Z",
     "start_time": "2017-05-27T11:21:13.690328Z"
    }
   },
   "outputs": [
    {
     "name": "stdout",
     "output_type": "stream",
     "text": [
      "Running 2 epochs with learning rate 0.01\n",
      "Epoch 1/2\n",
      "37896/37896 [==============================] - 27s - loss: 0.1074    \n",
      "Epoch 2/2\n",
      "37896/37896 [==============================] - 24s - loss: 0.0910    \n",
      "Running 3 epochs with learning rate 0.001\n",
      "Epoch 1/3\n",
      "37896/37896 [==============================] - 25s - loss: 0.0828    \n",
      "Epoch 2/3\n",
      "37896/37896 [==============================] - 24s - loss: 0.0805    \n",
      "Epoch 3/3\n",
      "37896/37896 [==============================] - 24s - loss: 0.0792    \n",
      "Running 2 epochs with learning rate 0.0001\n",
      "Epoch 1/2\n",
      "37896/37896 [==============================] - 26s - loss: 0.0776    \n",
      "Epoch 2/2\n",
      "37896/37896 [==============================] - 26s - loss: 0.0773    \n"
     ]
    }
   ],
   "source": [
    "rnn_model.fit(x=X_win_train, y=y_win_train, epochs_scheme=[2, 3, 2], lr_scheme=[0.01, 0.001, 0.0001])"
   ]
  },
  {
   "cell_type": "code",
   "execution_count": 56,
   "metadata": {
    "ExecuteTime": {
     "end_time": "2017-05-27T11:27:14.658714Z",
     "start_time": "2017-05-27T11:27:03.309971Z"
    }
   },
   "outputs": [
    {
     "name": "stdout",
     "output_type": "stream",
     "text": [
      "SimpleLSTM: simple LSTM 256\n",
      "RMSE train =  0.0808077201387\n",
      "RMSE valid =  0.149227080468\n"
     ]
    }
   ],
   "source": [
    "rnn_model.evaluate_rmse(train_dataset=(X_win_train, y_win_train), \n",
    "                         valid_dataset=(X_win_valid, y_win_valid), \n",
    "                         info=\"simple LSTM 256\")"
   ]
  },
  {
   "cell_type": "code",
   "execution_count": 57,
   "metadata": {
    "ExecuteTime": {
     "end_time": "2017-05-27T11:27:16.563381Z",
     "start_time": "2017-05-27T11:27:16.544360Z"
    },
    "collapsed": true
   },
   "outputs": [],
   "source": [
    "all_models['lstm'] = rnn_model"
   ]
  },
  {
   "cell_type": "code",
   "execution_count": 58,
   "metadata": {
    "ExecuteTime": {
     "end_time": "2017-05-27T11:27:18.494736Z",
     "start_time": "2017-05-27T11:27:18.450482Z"
    }
   },
   "outputs": [
    {
     "data": {
      "text/html": [
       "<div>\n",
       "<style>\n",
       "    .dataframe thead tr:only-child th {\n",
       "        text-align: right;\n",
       "    }\n",
       "\n",
       "    .dataframe thead th {\n",
       "        text-align: left;\n",
       "    }\n",
       "\n",
       "    .dataframe tbody tr th {\n",
       "        vertical-align: top;\n",
       "    }\n",
       "</style>\n",
       "<table border=\"1\" class=\"dataframe\">\n",
       "  <thead>\n",
       "    <tr style=\"text-align: right;\">\n",
       "      <th></th>\n",
       "      <th>NPWD2451</th>\n",
       "      <th>NPWD2531</th>\n",
       "      <th>NPWD2532</th>\n",
       "      <th>NPWD2551</th>\n",
       "      <th>NPWD2561</th>\n",
       "      <th>NPWD2851</th>\n",
       "      <th>NPWD2881</th>\n",
       "      <th>info</th>\n",
       "      <th>train_rmse</th>\n",
       "      <th>valid_rmse</th>\n",
       "    </tr>\n",
       "  </thead>\n",
       "  <tbody>\n",
       "    <tr>\n",
       "      <th>SimpleNeuralNetwork</th>\n",
       "      <td>0.299154</td>\n",
       "      <td>NaN</td>\n",
       "      <td>0.250869</td>\n",
       "      <td>0.452485</td>\n",
       "      <td>0.113171</td>\n",
       "      <td>0.191385</td>\n",
       "      <td>0.116759</td>\n",
       "      <td>windowed neural network with [256, 128, 64] layers</td>\n",
       "      <td>0.099178</td>\n",
       "      <td>0.116751</td>\n",
       "    </tr>\n",
       "    <tr>\n",
       "      <th>SimpleNeuralNetwork</th>\n",
       "      <td>0.281795</td>\n",
       "      <td>NaN</td>\n",
       "      <td>0.230331</td>\n",
       "      <td>0.453507</td>\n",
       "      <td>0.112209</td>\n",
       "      <td>0.187741</td>\n",
       "      <td>0.116725</td>\n",
       "      <td>windowed neural network</td>\n",
       "      <td>0.094886</td>\n",
       "      <td>0.114150</td>\n",
       "    </tr>\n",
       "    <tr>\n",
       "      <th>BaseModel</th>\n",
       "      <td>0.401223</td>\n",
       "      <td>NaN</td>\n",
       "      <td>0.268071</td>\n",
       "      <td>0.628200</td>\n",
       "      <td>0.121259</td>\n",
       "      <td>0.203353</td>\n",
       "      <td>0.119656</td>\n",
       "      <td>median model</td>\n",
       "      <td>0.123222</td>\n",
       "      <td>0.149133</td>\n",
       "    </tr>\n",
       "    <tr>\n",
       "      <th>SimpleNeuralNetwork</th>\n",
       "      <td>0.309247</td>\n",
       "      <td>NaN</td>\n",
       "      <td>0.198566</td>\n",
       "      <td>0.449271</td>\n",
       "      <td>0.111626</td>\n",
       "      <td>0.197343</td>\n",
       "      <td>0.116903</td>\n",
       "      <td>simple neural network</td>\n",
       "      <td>0.089297</td>\n",
       "      <td>0.114473</td>\n",
       "    </tr>\n",
       "    <tr>\n",
       "      <th>BaseModel</th>\n",
       "      <td>0.359447</td>\n",
       "      <td>NaN</td>\n",
       "      <td>0.251891</td>\n",
       "      <td>0.500584</td>\n",
       "      <td>0.113754</td>\n",
       "      <td>0.215772</td>\n",
       "      <td>0.117018</td>\n",
       "      <td>mean model</td>\n",
       "      <td>0.112497</td>\n",
       "      <td>0.129157</td>\n",
       "    </tr>\n",
       "    <tr>\n",
       "      <th>SimpleLSTM</th>\n",
       "      <td>0.447484</td>\n",
       "      <td>0.13914</td>\n",
       "      <td>0.261971</td>\n",
       "      <td>0.578038</td>\n",
       "      <td>0.129976</td>\n",
       "      <td>0.195762</td>\n",
       "      <td>NaN</td>\n",
       "      <td>simple LSTM 256</td>\n",
       "      <td>0.080808</td>\n",
       "      <td>0.149227</td>\n",
       "    </tr>\n",
       "    <tr>\n",
       "      <th>SimpleClassifier</th>\n",
       "      <td>0.374306</td>\n",
       "      <td>NaN</td>\n",
       "      <td>0.264224</td>\n",
       "      <td>0.515396</td>\n",
       "      <td>0.115591</td>\n",
       "      <td>0.262201</td>\n",
       "      <td>0.119799</td>\n",
       "      <td>simple neural classifier with 5 classes</td>\n",
       "      <td>0.110226</td>\n",
       "      <td>0.137292</td>\n",
       "    </tr>\n",
       "  </tbody>\n",
       "</table>\n",
       "</div>"
      ],
      "text/plain": [
       "                     NPWD2451  NPWD2531  NPWD2532  NPWD2551  NPWD2561  \\\n",
       "SimpleNeuralNetwork  0.299154 NaN        0.250869  0.452485  0.113171   \n",
       "SimpleNeuralNetwork  0.281795 NaN        0.230331  0.453507  0.112209   \n",
       "BaseModel            0.401223 NaN        0.268071  0.628200  0.121259   \n",
       "SimpleNeuralNetwork  0.309247 NaN        0.198566  0.449271  0.111626   \n",
       "BaseModel            0.359447 NaN        0.251891  0.500584  0.113754   \n",
       "SimpleLSTM           0.447484  0.13914   0.261971  0.578038  0.129976   \n",
       "SimpleClassifier     0.374306 NaN        0.264224  0.515396  0.115591   \n",
       "\n",
       "                     NPWD2851  NPWD2881  \\\n",
       "SimpleNeuralNetwork  0.191385  0.116759   \n",
       "SimpleNeuralNetwork  0.187741  0.116725   \n",
       "BaseModel            0.203353  0.119656   \n",
       "SimpleNeuralNetwork  0.197343  0.116903   \n",
       "BaseModel            0.215772  0.117018   \n",
       "SimpleLSTM           0.195762 NaN         \n",
       "SimpleClassifier     0.262201  0.119799   \n",
       "\n",
       "                                                                   info  \\\n",
       "SimpleNeuralNetwork  windowed neural network with [256, 128, 64] layers   \n",
       "SimpleNeuralNetwork  windowed neural network                              \n",
       "BaseModel            median model                                         \n",
       "SimpleNeuralNetwork  simple neural network                                \n",
       "BaseModel            mean model                                           \n",
       "SimpleLSTM           simple LSTM 256                                      \n",
       "SimpleClassifier     simple neural classifier with 5 classes              \n",
       "\n",
       "                     train_rmse  valid_rmse  \n",
       "SimpleNeuralNetwork  0.099178    0.116751    \n",
       "SimpleNeuralNetwork  0.094886    0.114150    \n",
       "BaseModel            0.123222    0.149133    \n",
       "SimpleNeuralNetwork  0.089297    0.114473    \n",
       "BaseModel            0.112497    0.129157    \n",
       "SimpleLSTM           0.080808    0.149227    \n",
       "SimpleClassifier     0.110226    0.137292    "
      ]
     },
     "execution_count": 58,
     "metadata": {},
     "output_type": "execute_result"
    }
   ],
   "source": [
    "pd.set_option('display.max_colwidth', -1)\n",
    "benchmark_models(all_models, y_columns)"
   ]
  },
  {
   "cell_type": "markdown",
   "metadata": {},
   "source": [
    "## XGBOOST !"
   ]
  },
  {
   "cell_type": "code",
   "execution_count": 59,
   "metadata": {
    "ExecuteTime": {
     "end_time": "2017-05-27T11:27:21.670071Z",
     "start_time": "2017-05-27T11:27:21.301878Z"
    },
    "collapsed": true
   },
   "outputs": [],
   "source": [
    "from tqdm import trange, tqdm\n",
    "import xgboost as xgb\n",
    "\n",
    "params = {\n",
    "    'max_depth': 3,\n",
    "    'subsample': 0.7,\n",
    "    'colsample_bylevel': 0.4,\n",
    "    'colsample_bytree': 0.4,\n",
    "    'n_estimators': 120\n",
    "}\n",
    "\n",
    "class XGBPerTarget(BaseModel):\n",
    "    def __init__(self):\n",
    "        BaseModel.__init__(self)\n",
    "        self.estimators = []\n",
    "    \n",
    "    def _fit_per_estimator(self, X_data, y_data, n_of_targets):\n",
    "        for idx in trange(n_of_targets):\n",
    "            self.estimators[idx].fit(X_data, y_data[:, idx])\n",
    "        \n",
    "    def fit(self, X_data, y_data):\n",
    "        n_of_targets = y_data.shape[1]\n",
    "        self.estimators = [xgb.XGBRegressor(**params) for _ in range(n_of_targets)]\n",
    "        self._fit_per_estimator(X_data, y_data, n_of_targets)\n",
    "        \n",
    "    def predict(self, X_data):\n",
    "        return np.hstack([est.predict(X_data).reshape(-1, 1) for est in tqdm(self.estimators)])\n",
    "    \n",
    "    \n",
    "    \n",
    "xgb_model = XGBPerTarget()"
   ]
  },
  {
   "cell_type": "code",
   "execution_count": 60,
   "metadata": {
    "ExecuteTime": {
     "end_time": "2017-05-27T11:27:37.491584Z",
     "start_time": "2017-05-27T11:27:23.601316Z"
    }
   },
   "outputs": [
    {
     "name": "stderr",
     "output_type": "stream",
     "text": [
      "100%|██████████| 33/33 [00:13<00:00,  2.63it/s]\n"
     ]
    }
   ],
   "source": [
    "xgb_model.fit(X_train.values, y_train.values)"
   ]
  },
  {
   "cell_type": "code",
   "execution_count": 61,
   "metadata": {
    "ExecuteTime": {
     "end_time": "2017-05-27T11:27:40.395892Z",
     "start_time": "2017-05-27T11:27:39.420331Z"
    },
    "scrolled": true
   },
   "outputs": [
    {
     "name": "stderr",
     "output_type": "stream",
     "text": [
      "100%|██████████| 33/33 [00:00<00:00, 54.34it/s]\n",
      "100%|██████████| 33/33 [00:00<00:00, 95.80it/s]"
     ]
    },
    {
     "name": "stdout",
     "output_type": "stream",
     "text": [
      "XGBPerTarget: XGBOOST!!!\n",
      "RMSE train =  0.0811527576809\n",
      "RMSE valid =  0.115688056815\n"
     ]
    },
    {
     "name": "stderr",
     "output_type": "stream",
     "text": [
      "\n"
     ]
    }
   ],
   "source": [
    "xgb_model.evaluate_rmse(train_dataset=(X_train.values, y_train.values), \n",
    "                         valid_dataset=(X_valid.values, y_valid.values), \n",
    "                         info=\"XGBOOST!!!\")"
   ]
  },
  {
   "cell_type": "code",
   "execution_count": 62,
   "metadata": {
    "ExecuteTime": {
     "end_time": "2017-05-27T11:27:42.360491Z",
     "start_time": "2017-05-27T11:27:42.341321Z"
    },
    "collapsed": true
   },
   "outputs": [],
   "source": [
    "all_models['xgb_model'] = xgb_model"
   ]
  },
  {
   "cell_type": "code",
   "execution_count": 63,
   "metadata": {
    "ExecuteTime": {
     "end_time": "2017-05-27T11:27:44.305221Z",
     "start_time": "2017-05-27T11:27:44.256601Z"
    }
   },
   "outputs": [
    {
     "data": {
      "text/html": [
       "<div>\n",
       "<style>\n",
       "    .dataframe thead tr:only-child th {\n",
       "        text-align: right;\n",
       "    }\n",
       "\n",
       "    .dataframe thead th {\n",
       "        text-align: left;\n",
       "    }\n",
       "\n",
       "    .dataframe tbody tr th {\n",
       "        vertical-align: top;\n",
       "    }\n",
       "</style>\n",
       "<table border=\"1\" class=\"dataframe\">\n",
       "  <thead>\n",
       "    <tr style=\"text-align: right;\">\n",
       "      <th></th>\n",
       "      <th>NPWD2451</th>\n",
       "      <th>NPWD2531</th>\n",
       "      <th>NPWD2532</th>\n",
       "      <th>NPWD2551</th>\n",
       "      <th>NPWD2561</th>\n",
       "      <th>NPWD2851</th>\n",
       "      <th>NPWD2881</th>\n",
       "      <th>info</th>\n",
       "      <th>train_rmse</th>\n",
       "      <th>valid_rmse</th>\n",
       "    </tr>\n",
       "  </thead>\n",
       "  <tbody>\n",
       "    <tr>\n",
       "      <th>SimpleNeuralNetwork</th>\n",
       "      <td>0.299154</td>\n",
       "      <td>NaN</td>\n",
       "      <td>0.250869</td>\n",
       "      <td>0.452485</td>\n",
       "      <td>0.113171</td>\n",
       "      <td>0.191385</td>\n",
       "      <td>0.116759</td>\n",
       "      <td>windowed neural network with [256, 128, 64] layers</td>\n",
       "      <td>0.099178</td>\n",
       "      <td>0.116751</td>\n",
       "    </tr>\n",
       "    <tr>\n",
       "      <th>SimpleNeuralNetwork</th>\n",
       "      <td>0.281795</td>\n",
       "      <td>NaN</td>\n",
       "      <td>0.230331</td>\n",
       "      <td>0.453507</td>\n",
       "      <td>0.112209</td>\n",
       "      <td>0.187741</td>\n",
       "      <td>0.116725</td>\n",
       "      <td>windowed neural network</td>\n",
       "      <td>0.094886</td>\n",
       "      <td>0.114150</td>\n",
       "    </tr>\n",
       "    <tr>\n",
       "      <th>BaseModel</th>\n",
       "      <td>0.401223</td>\n",
       "      <td>NaN</td>\n",
       "      <td>0.268071</td>\n",
       "      <td>0.628200</td>\n",
       "      <td>0.121259</td>\n",
       "      <td>0.203353</td>\n",
       "      <td>0.119656</td>\n",
       "      <td>median model</td>\n",
       "      <td>0.123222</td>\n",
       "      <td>0.149133</td>\n",
       "    </tr>\n",
       "    <tr>\n",
       "      <th>SimpleNeuralNetwork</th>\n",
       "      <td>0.309247</td>\n",
       "      <td>NaN</td>\n",
       "      <td>0.198566</td>\n",
       "      <td>0.449271</td>\n",
       "      <td>0.111626</td>\n",
       "      <td>0.197343</td>\n",
       "      <td>0.116903</td>\n",
       "      <td>simple neural network</td>\n",
       "      <td>0.089297</td>\n",
       "      <td>0.114473</td>\n",
       "    </tr>\n",
       "    <tr>\n",
       "      <th>BaseModel</th>\n",
       "      <td>0.359447</td>\n",
       "      <td>NaN</td>\n",
       "      <td>0.251891</td>\n",
       "      <td>0.500584</td>\n",
       "      <td>0.113754</td>\n",
       "      <td>0.215772</td>\n",
       "      <td>0.117018</td>\n",
       "      <td>mean model</td>\n",
       "      <td>0.112497</td>\n",
       "      <td>0.129157</td>\n",
       "    </tr>\n",
       "    <tr>\n",
       "      <th>XGBPerTarget</th>\n",
       "      <td>0.297057</td>\n",
       "      <td>0.182043</td>\n",
       "      <td>0.185035</td>\n",
       "      <td>0.431154</td>\n",
       "      <td>NaN</td>\n",
       "      <td>0.224187</td>\n",
       "      <td>0.116799</td>\n",
       "      <td>XGBOOST!!!</td>\n",
       "      <td>0.081153</td>\n",
       "      <td>0.115688</td>\n",
       "    </tr>\n",
       "    <tr>\n",
       "      <th>SimpleLSTM</th>\n",
       "      <td>0.447484</td>\n",
       "      <td>0.139140</td>\n",
       "      <td>0.261971</td>\n",
       "      <td>0.578038</td>\n",
       "      <td>0.129976</td>\n",
       "      <td>0.195762</td>\n",
       "      <td>NaN</td>\n",
       "      <td>simple LSTM 256</td>\n",
       "      <td>0.080808</td>\n",
       "      <td>0.149227</td>\n",
       "    </tr>\n",
       "    <tr>\n",
       "      <th>SimpleClassifier</th>\n",
       "      <td>0.374306</td>\n",
       "      <td>NaN</td>\n",
       "      <td>0.264224</td>\n",
       "      <td>0.515396</td>\n",
       "      <td>0.115591</td>\n",
       "      <td>0.262201</td>\n",
       "      <td>0.119799</td>\n",
       "      <td>simple neural classifier with 5 classes</td>\n",
       "      <td>0.110226</td>\n",
       "      <td>0.137292</td>\n",
       "    </tr>\n",
       "  </tbody>\n",
       "</table>\n",
       "</div>"
      ],
      "text/plain": [
       "                     NPWD2451  NPWD2531  NPWD2532  NPWD2551  NPWD2561  \\\n",
       "SimpleNeuralNetwork  0.299154 NaN        0.250869  0.452485  0.113171   \n",
       "SimpleNeuralNetwork  0.281795 NaN        0.230331  0.453507  0.112209   \n",
       "BaseModel            0.401223 NaN        0.268071  0.628200  0.121259   \n",
       "SimpleNeuralNetwork  0.309247 NaN        0.198566  0.449271  0.111626   \n",
       "BaseModel            0.359447 NaN        0.251891  0.500584  0.113754   \n",
       "XGBPerTarget         0.297057  0.182043  0.185035  0.431154 NaN         \n",
       "SimpleLSTM           0.447484  0.139140  0.261971  0.578038  0.129976   \n",
       "SimpleClassifier     0.374306 NaN        0.264224  0.515396  0.115591   \n",
       "\n",
       "                     NPWD2851  NPWD2881  \\\n",
       "SimpleNeuralNetwork  0.191385  0.116759   \n",
       "SimpleNeuralNetwork  0.187741  0.116725   \n",
       "BaseModel            0.203353  0.119656   \n",
       "SimpleNeuralNetwork  0.197343  0.116903   \n",
       "BaseModel            0.215772  0.117018   \n",
       "XGBPerTarget         0.224187  0.116799   \n",
       "SimpleLSTM           0.195762 NaN         \n",
       "SimpleClassifier     0.262201  0.119799   \n",
       "\n",
       "                                                                   info  \\\n",
       "SimpleNeuralNetwork  windowed neural network with [256, 128, 64] layers   \n",
       "SimpleNeuralNetwork  windowed neural network                              \n",
       "BaseModel            median model                                         \n",
       "SimpleNeuralNetwork  simple neural network                                \n",
       "BaseModel            mean model                                           \n",
       "XGBPerTarget         XGBOOST!!!                                           \n",
       "SimpleLSTM           simple LSTM 256                                      \n",
       "SimpleClassifier     simple neural classifier with 5 classes              \n",
       "\n",
       "                     train_rmse  valid_rmse  \n",
       "SimpleNeuralNetwork  0.099178    0.116751    \n",
       "SimpleNeuralNetwork  0.094886    0.114150    \n",
       "BaseModel            0.123222    0.149133    \n",
       "SimpleNeuralNetwork  0.089297    0.114473    \n",
       "BaseModel            0.112497    0.129157    \n",
       "XGBPerTarget         0.081153    0.115688    \n",
       "SimpleLSTM           0.080808    0.149227    \n",
       "SimpleClassifier     0.110226    0.137292    "
      ]
     },
     "execution_count": 63,
     "metadata": {},
     "output_type": "execute_result"
    }
   ],
   "source": [
    "pd.set_option('display.max_colwidth', -1)\n",
    "benchmark_models(all_models, y_columns)"
   ]
  },
  {
   "cell_type": "code",
   "execution_count": null,
   "metadata": {
    "collapsed": true
   },
   "outputs": [],
   "source": []
  },
  {
   "cell_type": "code",
   "execution_count": null,
   "metadata": {
    "collapsed": true
   },
   "outputs": [],
   "source": []
  }
 ],
 "metadata": {
  "kernelspec": {
   "display_name": "Python 2",
   "language": "python",
   "name": "python2"
  },
  "language_info": {
   "codemirror_mode": {
    "name": "ipython",
    "version": 2
   },
   "file_extension": ".py",
   "mimetype": "text/x-python",
   "name": "python",
   "nbconvert_exporter": "python",
   "pygments_lexer": "ipython2",
   "version": "2.7.13"
  },
  "toc": {
   "colors": {
    "hover_highlight": "#DAA520",
    "navigate_num": "#000000",
    "navigate_text": "#333333",
    "running_highlight": "#FF0000",
    "selected_highlight": "#FFD700",
    "sidebar_border": "#EEEEEE",
    "wrapper_background": "#FFFFFF"
   },
   "moveMenuLeft": true,
   "nav_menu": {
    "height": "116px",
    "width": "252px"
   },
   "navigate_menu": true,
   "number_sections": true,
   "sideBar": true,
   "threshold": 4,
   "toc_cell": false,
   "toc_position": {
    "height": "691px",
    "left": "0px",
    "right": "1347.17px",
    "top": "107px",
    "width": "212px"
   },
   "toc_section_display": "block",
   "toc_window_display": true,
   "widenNotebook": false
  },
  "varInspector": {
   "cols": {
    "lenName": 16,
    "lenType": 16,
    "lenVar": 40
   },
   "kernels_config": {
    "python": {
     "delete_cmd_postfix": "",
     "delete_cmd_prefix": "del ",
     "library": "var_list.py",
     "varRefreshCmd": "print(var_dic_list())"
    },
    "r": {
     "delete_cmd_postfix": ") ",
     "delete_cmd_prefix": "rm(",
     "library": "var_list.r",
     "varRefreshCmd": "cat(var_dic_list()) "
    }
   },
   "types_to_exclude": [
    "module",
    "function",
    "builtin_function_or_method",
    "instance",
    "_Feature"
   ],
   "window_display": false
  }
 },
 "nbformat": 4,
 "nbformat_minor": 2
}
